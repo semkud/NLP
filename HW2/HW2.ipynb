{
  "nbformat": 4,
  "nbformat_minor": 0,
  "metadata": {
    "colab": {
      "name": "HW2.ipynb",
      "provenance": [],
      "authorship_tag": "ABX9TyMZWhct3ynxTQoXjs0DO33a",
      "include_colab_link": true
    },
    "kernelspec": {
      "name": "python3",
      "display_name": "Python 3"
    }
  },
  "cells": [
    {
      "cell_type": "markdown",
      "metadata": {
        "id": "view-in-github",
        "colab_type": "text"
      },
      "source": [
        "<a href=\"https://colab.research.google.com/github/semkud/NLP/blob/main/HW2/HW2.ipynb\" target=\"_parent\"><img src=\"https://colab.research.google.com/assets/colab-badge.svg\" alt=\"Open In Colab\"/></a>"
      ]
    },
    {
      "cell_type": "markdown",
      "metadata": {
        "id": "OPusJzjjYrx6"
      },
      "source": [
        "Для начала загрузим все библиотеки и укажем наши тексты и списки с эталонными вариантами разметки."
      ]
    },
    {
      "cell_type": "code",
      "metadata": {
        "id": "Af7bLD9aY30v"
      },
      "source": [
        "!pip install natasha"
      ],
      "execution_count": null,
      "outputs": []
    },
    {
      "cell_type": "code",
      "metadata": {
        "id": "HBPbgRoqZOD9"
      },
      "source": [
        "!pip install slovnet\n"
      ],
      "execution_count": null,
      "outputs": []
    },
    {
      "cell_type": "code",
      "metadata": {
        "id": "Fa1IYt7IZTaP"
      },
      "source": [
        "!pip install navec"
      ],
      "execution_count": null,
      "outputs": []
    },
    {
      "cell_type": "code",
      "metadata": {
        "id": "lEhIkgX-zTto"
      },
      "source": [
        "!pip install pymorphy2\n",
        "!pip install pymystem3 --upgrade\n",
        "% pip install pymystem3"
      ],
      "execution_count": null,
      "outputs": []
    },
    {
      "cell_type": "code",
      "metadata": {
        "id": "rpNkRmBbef08"
      },
      "source": [
        "from natasha import (\n",
        "    Segmenter,\n",
        "    MorphVocab,\n",
        "    \n",
        "    NewsEmbedding,\n",
        "    NewsMorphTagger,\n",
        "    NewsSyntaxParser,\n",
        "    NewsNERTagger,\n",
        "    \n",
        "    PER,\n",
        "    NamesExtractor,\n",
        "\n",
        "    Doc\n",
        ")\n",
        "\n",
        "segmenter = Segmenter()\n",
        "\n",
        "emb = NewsEmbedding()\n",
        "morph_tagger = NewsMorphTagger(emb)\n",
        "syntax_parser = NewsSyntaxParser(emb)\n",
        "ner_tagger = NewsNERTagger(emb)"
      ],
      "execution_count": 130,
      "outputs": []
    },
    {
      "cell_type": "code",
      "metadata": {
        "id": "ohX6KGrPem_c"
      },
      "source": [
        "import navec\n",
        "from navec import Navec\n",
        "from slovnet import NER\n",
        "from ipymarkup import show_span_ascii_markup as show_markup\n",
        "path = 'navec_hudlit_v1_12B_500K_300d_100q.tar'\n",
        "navec = Navec.load(path)\n",
        "\n",
        "text = 'Вы когда-нибудь были на Таити? Не были? Ну и правильно, к чему бы вам там бывать, если только не для того чтобы окунуться с головой в озеро Лумпнуть, потревожить его гладь, рубашку скинуть и нырять, а потом жарить шашлыки в гостинной. Перелет до Таити будет 3-часовым, а на борту вам предложат минеральную, газированную, натриево карбонатную и магниевую воду, чтобы вы, как восьмидесятипроцентный водный человек восполнили свой баланс и были готовы загорать, изжариваться под лучами знойного таитского солнца. Если у вас стекло в кармане, не бойтесь проходить таможню, там сидят абсолютно слепые люди, у одного такого слепого даже стекло по штанине мороженное, а он не заметил.'"
      ],
      "execution_count": 129,
      "outputs": []
    },
    {
      "cell_type": "markdown",
      "metadata": {
        "id": "TJbc0PkIski5"
      },
      "source": [
        "Сложные места это:\n",
        "1) Имена собственные - Таити, Лумпнуть\n",
        "2) слово гладь, за которым следует рубашка\n",
        "3) отадъективы типа мороженное, гостинная, слепой\n",
        "4) стекло как существительное и как глагол"
      ]
    },
    {
      "cell_type": "markdown",
      "metadata": {
        "id": "IVhftzyNvlxZ"
      },
      "source": [
        "По очереди анализируем текст - Наташей, майстемом, пайморфи"
      ]
    },
    {
      "cell_type": "code",
      "metadata": {
        "id": "lC21jti9iZjJ",
        "outputId": "e3657ed6-2be7-4d23-87d3-0b1cdcc3f95d",
        "colab": {
          "base_uri": "https://localhost:8080/",
          "height": 35
        }
      },
      "source": [
        "doc = Doc(text)\n",
        "doc.segment(segmenter)\n",
        "doc.tag_morph(morph_tagger)\n",
        "display(doc.tokens[9].pos)\n",
        "#doc.sents[0].morph.print()\n",
        "natasha_version = []\n",
        "for token in doc.tokens:\n",
        "  if token.pos != 'PUNCT':\n",
        "    natasha_version.append([token.text.lower(), token.pos])"
      ],
      "execution_count": 74,
      "outputs": [
        {
          "output_type": "display_data",
          "data": {
            "application/vnd.google.colaboratory.intrinsic+json": {
              "type": "string"
            },
            "text/plain": [
              "'PART'"
            ]
          },
          "metadata": {
            "tags": []
          }
        }
      ]
    },
    {
      "cell_type": "code",
      "metadata": {
        "id": "uSjUZzohZAQW",
        "outputId": "243d17dd-4534-4a75-f248-0343c2d75fb1",
        "colab": {
          "base_uri": "https://localhost:8080/",
          "height": 33
        }
      },
      "source": [
        "len(natasha_version)"
      ],
      "execution_count": 75,
      "outputs": [
        {
          "output_type": "execute_result",
          "data": {
            "text/plain": [
              "105"
            ]
          },
          "metadata": {
            "tags": []
          },
          "execution_count": 75
        }
      ]
    },
    {
      "cell_type": "code",
      "metadata": {
        "id": "mP4C4Kbhn8eu",
        "outputId": "f95601ba-97ba-4e3d-e7a2-4c6d83f316a4",
        "colab": {
          "base_uri": "https://localhost:8080/",
          "height": 318
        }
      },
      "source": [
        "!wget http://download.cdn.yandex.net/mystem/mystem-3.0-linux3.1-64bit.tar.gz\n",
        "!tar -xvf mystem-3.0-linux3.1-64bit.tar.gz\n",
        "!cp mystem /root/.local/bin/mystem\n",
        "import pymystem3\n",
        "import json\n",
        "from pymystem3 import Mystem\n",
        "m = Mystem()\n",
        "a = m.analyze(text)"
      ],
      "execution_count": 76,
      "outputs": [
        {
          "output_type": "stream",
          "text": [
            "--2020-10-13 15:45:34--  http://download.cdn.yandex.net/mystem/mystem-3.0-linux3.1-64bit.tar.gz\n",
            "Resolving download.cdn.yandex.net (download.cdn.yandex.net)... 5.45.205.241, 5.45.205.242, 5.45.205.244, ...\n",
            "Connecting to download.cdn.yandex.net (download.cdn.yandex.net)|5.45.205.241|:80... connected.\n",
            "HTTP request sent, awaiting response... 302 Found\n",
            "Location: http://cache-mskm907.cdn.yandex.net/download.cdn.yandex.net/mystem/mystem-3.0-linux3.1-64bit.tar.gz [following]\n",
            "--2020-10-13 15:45:35--  http://cache-mskm907.cdn.yandex.net/download.cdn.yandex.net/mystem/mystem-3.0-linux3.1-64bit.tar.gz\n",
            "Resolving cache-mskm907.cdn.yandex.net (cache-mskm907.cdn.yandex.net)... 5.45.220.17, 2a02:6b8:0:2002::18\n",
            "Connecting to cache-mskm907.cdn.yandex.net (cache-mskm907.cdn.yandex.net)|5.45.220.17|:80... connected.\n",
            "HTTP request sent, awaiting response... 200 OK\n",
            "Length: 16457938 (16M) [application/octet-stream]\n",
            "Saving to: ‘mystem-3.0-linux3.1-64bit.tar.gz.4’\n",
            "\n",
            "mystem-3.0-linux3.1 100%[===================>]  15.70M  6.77MB/s    in 2.3s    \n",
            "\n",
            "2020-10-13 15:45:38 (6.77 MB/s) - ‘mystem-3.0-linux3.1-64bit.tar.gz.4’ saved [16457938/16457938]\n",
            "\n",
            "mystem\n",
            "cp: cannot create regular file '/root/.local/bin/mystem': Text file busy\n"
          ],
          "name": "stdout"
        }
      ]
    },
    {
      "cell_type": "code",
      "metadata": {
        "id": "jQ8_RQ8qEqhr"
      },
      "source": [
        "mystem_version = []\n",
        "len(mystem_version)\n",
        "for word in a:\n",
        "    if 'analysis' in word:\n",
        "      if len(word['analysis']) > 0:\n",
        "        gr = word['analysis'][0]['gr']\n",
        "        pos = gr.split('=')[0].split(',')[0]\n",
        "        r = word['text']\n",
        "        mystem_version.append([r.lower(), pos])"
      ],
      "execution_count": 77,
      "outputs": []
    },
    {
      "cell_type": "code",
      "metadata": {
        "id": "wioNK8N3ZZeX",
        "outputId": "e6b49b6d-fc78-416a-dd38-f8f4b05bd350",
        "colab": {
          "base_uri": "https://localhost:8080/",
          "height": 50
        }
      },
      "source": [
        "import nltk\n",
        "nltk.download('punkt')\n",
        "from nltk.tokenize import word_tokenize\n",
        "from pymorphy2 import MorphAnalyzer\n",
        "morph = MorphAnalyzer()\n",
        "\n",
        "pymorphy_version = []\n",
        "tt = word_tokenize(text)\n",
        "for t in tt:\n",
        "  if 'PNCT' not in str(morph.parse(t)[0].tag)[0:4]:\n",
        "    pymorphy_version.append([morph.parse(t)[0].word, str(morph.parse(t)[0].tag)[0:4]])"
      ],
      "execution_count": 78,
      "outputs": [
        {
          "output_type": "stream",
          "text": [
            "[nltk_data] Downloading package punkt to /root/nltk_data...\n",
            "[nltk_data]   Package punkt is already up-to-date!\n"
          ],
          "name": "stdout"
        }
      ]
    },
    {
      "cell_type": "markdown",
      "metadata": {
        "id": "oB6Y0_Iavxk9"
      },
      "source": [
        "Создаем функцию Унифай - приводящая все теги к одним"
      ]
    },
    {
      "cell_type": "code",
      "metadata": {
        "id": "cD5o68oDb5vx"
      },
      "source": [
        "PRON = ['PRON', 'SPRO', 'NPRO', 'APRO', 'DET']\n",
        "ADVB = ['ADV', 'ADVPRO', 'ADVB']\n",
        "PREP = ['ADP', 'PR', 'PREP']\n",
        "NOUN = ['PROPN', 'S', 'NOUN']\n",
        "PART = ['PART', 'PRCL']\n",
        "VERB = ['AUX', 'V', 'VERB', 'INFN', 'PRTF']\n",
        "CONJ = ['CCONJ', 'CONJ', 'SCONJ']\n",
        "ADJ = ['ADJF', 'ADJ', 'A', 'ADJS', 'ADJF']\n",
        "def unify(c):\n",
        "  for a in range(0, len(c), 1):\n",
        "    if c[a][1] in PRON:\n",
        "      c[a][1] = 'PRON'\n",
        "    elif c[a][1] in ADVB:\n",
        "      c[a][1] = 'ADVB'\n",
        "    elif c[a][1] in PREP:\n",
        "      c[a][1] = 'PREP'\n",
        "    elif c[a][1] in NOUN:\n",
        "      c[a][1] = 'NOUN'\n",
        "    elif c[a][1] in PART:\n",
        "      c[a][1] = 'PART'\n",
        "    elif c[a][1] in VERB:\n",
        "      c[a][1] = 'VERB'\n",
        "    elif c[a][1] in CONJ:\n",
        "      c[a][1] = 'CONJ'\n",
        "    elif c[a][1] in ADJ:\n",
        "      c[a][1] = 'ADJ'\n",
        "  return(c)\n",
        "\n"
      ],
      "execution_count": 87,
      "outputs": []
    },
    {
      "cell_type": "code",
      "metadata": {
        "id": "OF9YH3h-KXJp"
      },
      "source": [
        "nv = unify(natasha_version)\n",
        "nm = unify(mystem_version)\n",
        "np = unify(pymorphy_version)"
      ],
      "execution_count": 88,
      "outputs": []
    },
    {
      "cell_type": "markdown",
      "metadata": {
        "id": "uFX5iJkGv8NL"
      },
      "source": [
        "А это наш Золотой стандарт ручной разметки"
      ]
    },
    {
      "cell_type": "code",
      "metadata": {
        "id": "3eteO2G8o8tY"
      },
      "source": [
        "gold = [['вы', 'PRON'], ['когда-нибудь', 'ADVB'], ['были', 'VERB'], ['на', 'PREP'], ['таити', 'NOUN'],\n",
        "        ['не', 'PART'], ['были', 'VERB'], ['ну', 'PART'], ['и', 'CONJ'], ['правильно', 'ADVB'], ['к', 'PREP'],\n",
        "        ['чему', 'PRON'], ['бы', 'PART'], ['вам', 'PRON'], ['там', 'ADVB'], ['бывать', 'VERB'], ['если', 'CONJ'],\n",
        "        ['только', 'ADVB'], ['не', 'PART'], ['для', 'PREP'], ['того', 'PRON'], ['чтобы', 'CONJ'], ['окунуться', 'VERB'],\n",
        "        ['с', 'PREP'], ['головой', 'NOUN'], ['в', 'PREP'], ['озеро', 'NOUN'], ['лумпнуть', 'NOUN'], ['потревожить', 'VERB'],\n",
        "        ['его', 'PRON'], ['гладь', 'NOUN'], ['рубашку', 'NOUN'], ['скинуть', 'VERB'], ['и', 'CONJ'], ['нырять', 'VERB'],\n",
        "        ['а', 'CONJ'], ['потом', 'ADVB'], ['жарить', 'VERB'], ['шашлыки', 'NOUN'], ['в', 'PREP'], ['гостинной', 'NOUN'],\n",
        "        ['перелёт', 'NOUN'], ['до', 'PREP'], ['таити', 'NOUN'], ['будет', 'VERB'], ['3-часовым', 'ADJ'], ['а', 'CONJ'],\n",
        "        ['на', 'PREP'], ['борту', 'NOUN'], ['вам', 'PRON'], ['предложат', 'VERB'], ['минеральную', 'ADJ'],\n",
        "        ['газированную', 'VERB'], ['натриево', 'ADJ'], ['карбонатную', 'ADJ'], ['и', 'CONJ'], ['магниевую', 'ADJ'],\n",
        "        ['воду', 'NOUN'], ['чтобы', 'CONJ'], ['вы', 'PRON'], ['как', 'CONJ'], ['восьмидесятипроцентный', 'ADJ'],\n",
        "        ['водный', 'ADJ'], ['человек', 'NOUN'], ['восполнили', 'VERB'], ['свой', 'PRON'], ['баланс', 'NOUN'], ['и', 'CONJ'],\n",
        "        ['были', 'VERB'], ['готовы', 'ADJ'], ['загорать', 'VERB'], ['изжариваться', 'VERB'], ['под', 'PREP'], ['лучами', 'NOUN'],\n",
        "        ['знойного', 'ADJ'], ['таитского', 'PRON'], ['солнца', 'NOUN'], ['если', 'CONJ'], ['у', 'PREP'], ['вас', 'PRON'],\n",
        "        ['стекло', 'NOUN'], ['в', 'PREP'], ['кармане', 'NOUN'], ['не', 'PART'], ['бойтесь', 'VERB'], ['проходить', 'VERB'],\n",
        "        ['таможню', 'NOUN'], ['там', 'ADVB'], ['сидят', 'VERB'], ['абсолютно', 'ADVB'], ['слепые', 'ADJ'], ['люди', 'NOUN'],\n",
        "        ['у', 'PREP'], ['одного', 'PRON'], ['такого', 'PRON'], ['слепого', 'NOUN'], ['даже', 'PART'], ['стекло', 'VERB'],\n",
        "        ['по', 'PREP'], ['штанине', 'NOUN'], ['мороженное', 'NOUN'], ['а', 'CONJ'], ['он', 'PRON'], ['не', 'PART'],\n",
        "        ['заметил', 'VERB']]"
      ],
      "execution_count": 89,
      "outputs": []
    },
    {
      "cell_type": "markdown",
      "metadata": {
        "id": "b6qQvTgAwB_P"
      },
      "source": [
        "Функция, которой мы протестируем разные разметки"
      ]
    },
    {
      "cell_type": "code",
      "metadata": {
        "id": "PXGw9O6orL6L"
      },
      "source": [
        "def test(a, b):\n",
        "  count = 0\n",
        "  for q in range(0, len(a),1):\n",
        "    if a[q][1] == b[q][1]:\n",
        "      count = count + 1\n",
        "  return(count*100/len(a))"
      ],
      "execution_count": 90,
      "outputs": []
    },
    {
      "cell_type": "code",
      "metadata": {
        "id": "Hq9JYhfxrpeT",
        "outputId": "00803819-df32-4657-d54d-9be21cd8039b",
        "colab": {
          "base_uri": "https://localhost:8080/",
          "height": 67
        }
      },
      "source": [
        "print('Точность Наташи - ', test(nv, gold), '\\n', 'Точность майстем - ', test(nm, gold), '\\n','Точность пайморфи - ', test(np, gold), )"
      ],
      "execution_count": 91,
      "outputs": [
        {
          "output_type": "stream",
          "text": [
            "Точность Наташи -  91.42857142857143 \n",
            " Точность майстем -  92.38095238095238 \n",
            " Точность пайморфи -  87.61904761904762\n"
          ],
          "name": "stdout"
        }
      ]
    },
    {
      "cell_type": "markdown",
      "metadata": {
        "id": "V-zchFxOtqY6"
      },
      "source": [
        "ЧАСТЬ С АНГЛИЙСКИМ"
      ]
    },
    {
      "cell_type": "code",
      "metadata": {
        "id": "wrkBPZKvtses"
      },
      "source": [
        "!pip install spacy"
      ],
      "execution_count": null,
      "outputs": []
    },
    {
      "cell_type": "code",
      "metadata": {
        "id": "VkJGkQPZt2Mg"
      },
      "source": [
        "!python -m spacy download en_core_web_sm"
      ],
      "execution_count": null,
      "outputs": []
    },
    {
      "cell_type": "code",
      "metadata": {
        "id": "ii6nc7Qvt478"
      },
      "source": [
        "text2 = 'It usually snows heavily in Babylon in the morning. All Mesapotamia is covered with snow. Many people get corneal burns while looking out into that whitish desert. Many desert burn fires whistling their favorite song and can be seen from afar. They order drinks and their screams freeze the soul. There are other guys here, George. This is not Germany, this is not Afghanistan. George, your soldiers will be torn apart here. These are 250 thousand elite soldiers of the Babylonian Kingdom! They will smash everything! They will cover the entire desert in one hour! They will blow up all your destroyers, all your journalists, diplomats. George, you are a cowboy. You stop, damn it, you finish, you hide the cartridges away in the warehouse. And forget about your dad.'"
      ],
      "execution_count": 99,
      "outputs": []
    },
    {
      "cell_type": "markdown",
      "metadata": {
        "id": "uBvAjLFvwYhv"
      },
      "source": [
        "В начале много конверсий - snow, snows, burns, burn, drinks, whistle, desert, freeze"
      ]
    },
    {
      "cell_type": "code",
      "metadata": {
        "id": "oxdp9XStpzld"
      },
      "source": [
        "import spacy\n",
        "\n",
        "# Загружаем весь пайплайн для английского\n",
        "nlp = spacy.load(\"en_core_web_sm\")\n",
        "\n",
        "# Обрабатываем текст\n",
        "doc = nlp(text2)\n",
        "spacy_version = []\n",
        "# Выведем токены, леммы и теги\n",
        "for i, s in enumerate(doc.sents):\n",
        "    print(\"\\n-- Sentence %d --\" % i)\n",
        "    for t in s:\n",
        "        spacy_version.append([t.text.lower(), t.pos_])"
      ],
      "execution_count": null,
      "outputs": []
    },
    {
      "cell_type": "code",
      "metadata": {
        "id": "Cs4I6eijrKBU",
        "outputId": "fee967b3-880f-467f-f9ff-d32aa42524ec",
        "colab": {
          "base_uri": "https://localhost:8080/",
          "height": 53
        }
      },
      "source": [
        "print(spacy_version)"
      ],
      "execution_count": 110,
      "outputs": [
        {
          "output_type": "stream",
          "text": [
            "[['it', 'PRON'], ['usually', 'ADV'], ['snows', 'VERB'], ['heavily', 'ADV'], ['in', 'ADP'], ['babylon', 'PROPN'], ['in', 'ADP'], ['the', 'DET'], ['morning', 'NOUN'], ['.', 'PUNCT'], ['all', 'DET'], ['mesapotamia', 'PROPN'], ['is', 'AUX'], ['covered', 'VERB'], ['with', 'ADP'], ['snow', 'NOUN'], ['.', 'PUNCT'], ['many', 'ADJ'], ['people', 'NOUN'], ['get', 'VERB'], ['corneal', 'ADJ'], ['burns', 'NOUN'], ['while', 'SCONJ'], ['looking', 'VERB'], ['out', 'ADP'], ['into', 'ADP'], ['that', 'DET'], ['whitish', 'ADJ'], ['desert', 'NOUN'], ['.', 'PUNCT'], ['many', 'ADJ'], ['desert', 'NOUN'], ['burn', 'VERB'], ['fires', 'NOUN'], ['whistling', 'VERB'], ['their', 'DET'], ['favorite', 'ADJ'], ['song', 'NOUN'], ['and', 'CCONJ'], ['can', 'VERB'], ['be', 'AUX'], ['seen', 'VERB'], ['from', 'ADP'], ['afar', 'ADV'], ['.', 'PUNCT'], ['they', 'PRON'], ['order', 'VERB'], ['drinks', 'NOUN'], ['and', 'CCONJ'], ['their', 'DET'], ['screams', 'NOUN'], ['freeze', 'VERB'], ['the', 'DET'], ['soul', 'NOUN'], ['.', 'PUNCT'], ['there', 'PRON'], ['are', 'AUX'], ['other', 'ADJ'], ['guys', 'NOUN'], ['here', 'ADV'], [',', 'PUNCT'], ['george', 'PROPN'], ['.', 'PUNCT'], ['this', 'DET'], ['is', 'AUX'], ['not', 'PART'], ['germany', 'PROPN'], [',', 'PUNCT'], ['this', 'DET'], ['is', 'AUX'], ['not', 'PART'], ['afghanistan', 'PROPN'], ['.', 'PUNCT'], ['george', 'PROPN'], [',', 'PUNCT'], ['your', 'DET'], ['soldiers', 'NOUN'], ['will', 'VERB'], ['be', 'AUX'], ['torn', 'VERB'], ['apart', 'ADV'], ['here', 'ADV'], ['.', 'PUNCT'], ['these', 'DET'], ['are', 'AUX'], ['250', 'NUM'], ['thousand', 'NUM'], ['elite', 'ADJ'], ['soldiers', 'NOUN'], ['of', 'ADP'], ['the', 'DET'], ['babylonian', 'PROPN'], ['kingdom', 'PROPN'], ['!', 'PUNCT'], ['they', 'PRON'], ['will', 'VERB'], ['smash', 'VERB'], ['everything', 'PRON'], ['!', 'PUNCT'], ['they', 'PRON'], ['will', 'VERB'], ['cover', 'VERB'], ['the', 'DET'], ['entire', 'ADJ'], ['desert', 'NOUN'], ['in', 'ADP'], ['one', 'NUM'], ['hour', 'NOUN'], ['!', 'PUNCT'], ['they', 'PRON'], ['will', 'VERB'], ['blow', 'VERB'], ['up', 'ADP'], ['all', 'DET'], ['your', 'DET'], ['destroyers', 'NOUN'], [',', 'PUNCT'], ['all', 'DET'], ['your', 'DET'], ['journalists', 'NOUN'], [',', 'PUNCT'], ['diplomats', 'NOUN'], ['.', 'PUNCT'], ['george', 'PROPN'], [',', 'PUNCT'], ['you', 'PRON'], ['are', 'AUX'], ['a', 'DET'], ['cowboy', 'NOUN'], ['.', 'PUNCT'], ['you', 'PRON'], ['stop', 'VERB'], [',', 'PUNCT'], ['damn', 'VERB'], ['it', 'PRON'], [',', 'PUNCT'], ['you', 'PRON'], ['finish', 'VERB'], [',', 'PUNCT'], ['you', 'PRON'], ['hide', 'VERB'], ['the', 'DET'], ['cartridges', 'NOUN'], ['away', 'ADV'], ['in', 'ADP'], ['the', 'DET'], ['warehouse', 'NOUN'], ['.', 'PUNCT'], ['and', 'CCONJ'], ['forget', 'VERB'], ['about', 'ADP'], ['your', 'DET'], ['dad', 'NOUN'], ['.', 'PUNCT']]\n"
          ],
          "name": "stdout"
        }
      ]
    },
    {
      "cell_type": "markdown",
      "metadata": {
        "id": "LHqrma49wrzA"
      },
      "source": [
        "Как мы видим, Спайси раскусил все конверсии кроме немного кривоватого предложения про \"многие дезертируют, жгут костры...\"\n"
      ]
    },
    {
      "cell_type": "markdown",
      "metadata": {
        "id": "CwXVfq9ew8NM"
      },
      "source": [
        "Кстати, сразу заведем золотой стандарт:"
      ]
    },
    {
      "cell_type": "code",
      "metadata": {
        "id": "M5Nl3N0NxA_h"
      },
      "source": [
        "gold2 = [['it', 'PRON'], ['usually', 'ADV'], ['snows', 'VERB'], ['heavily', 'ADV'], ['in', 'ADP'], \n",
        "         ['babylon', 'PROPN'], ['in', 'ADP'], ['the', 'DET'], ['morning', 'NOUN'], ['.', 'PUNCT'], \n",
        "         ['all', 'DET'], ['mesapotamia', 'PROPN'], ['is', 'AUX'], ['covered', 'VERB'], ['with', 'ADP'], \n",
        "         ['snow', 'NOUN'], ['.', 'PUNCT'], ['many', 'ADJ'], ['people', 'NOUN'], ['get', 'VERB'], ['corneal', 'ADJ'], \n",
        "         ['burns', 'NOUN'], ['while', 'SCONJ'], ['looking', 'VERB'], ['out', 'ADP'], ['into', 'ADP'], ['that', 'DET'], \n",
        "         ['whitish', 'ADJ'], ['desert', 'NOUN'], ['.', 'PUNCT'], ['many', 'ADJ'], ['desert', 'VERB'], ['burn', 'VERB'], \n",
        "         ['fires', 'NOUN'], ['whistling', 'VERB'], ['their', 'DET'], ['favorite', 'ADJ'], ['song', 'NOUN'], ['and', 'CCONJ'], \n",
        "         ['can', 'VERB'], ['be', 'AUX'], ['seen', 'VERB'], ['from', 'ADP'], ['afar', 'ADV'], ['.', 'PUNCT'], ['they', 'PRON'], \n",
        "         ['order', 'VERB'], ['drinks', 'NOUN'], ['and', 'CCONJ'], ['their', 'DET'], ['screams', 'NOUN'], ['freeze', 'VERB'], \n",
        "         ['the', 'DET'], ['soul', 'NOUN'], ['.', 'PUNCT'], ['there', 'PRON'], ['are', 'AUX'], ['other', 'ADJ'], ['guys', 'NOUN'], \n",
        "         ['here', 'ADV'], [',', 'PUNCT'], ['george', 'PROPN'], ['.', 'PUNCT'], ['this', 'DET'], ['is', 'AUX'], ['not', 'PART'], \n",
        "         ['germany', 'PROPN'], [',', 'PUNCT'], ['this', 'DET'], ['is', 'AUX'], ['not', 'PART'], ['afghanistan', 'PROPN'], \n",
        "         ['.', 'PUNCT'], ['george', 'PROPN'], [',', 'PUNCT'], ['your', 'DET'], ['soldiers', 'NOUN'], ['will', 'VERB'], \n",
        "         ['be', 'AUX'], ['torn', 'VERB'], ['apart', 'ADV'], ['here', 'ADV'], ['.', 'PUNCT'], ['these', 'DET'], ['are', 'AUX'], \n",
        "         ['250', 'NUM'], ['thousand', 'NUM'], ['elite', 'ADJ'], ['soldiers', 'NOUN'], ['of', 'ADP'], ['the', 'DET'], \n",
        "         ['babylonian', 'PROPN'], ['kingdom', 'PROPN'], ['!', 'PUNCT'], ['they', 'PRON'], ['will', 'VERB'], ['smash', 'VERB'], \n",
        "         ['everything', 'PRON'], ['!', 'PUNCT'], ['they', 'PRON'], ['will', 'VERB'], ['cover', 'VERB'], ['the', 'DET'], \n",
        "         ['entire', 'ADJ'], ['desert', 'NOUN'], ['in', 'ADP'], ['one', 'NUM'], ['hour', 'NOUN'], ['!', 'PUNCT'], ['they', 'PRON'], \n",
        "         ['will', 'VERB'], ['blow', 'VERB'], ['up', 'ADP'], ['all', 'DET'], ['your', 'DET'], ['destroyers', 'NOUN'], [',', 'PUNCT'],\n",
        "         ['all', 'DET'], ['your', 'DET'], ['journalists', 'NOUN'], [',', 'PUNCT'], ['diplomats', 'NOUN'], ['.', 'PUNCT'], \n",
        "         ['george', 'PROPN'], [',', 'PUNCT'], ['you', 'PRON'], ['are', 'AUX'], ['a', 'DET'], ['cowboy', 'NOUN'], ['.', 'PUNCT'], \n",
        "         ['you', 'PRON'], ['stop', 'VERB'], [',', 'PUNCT'], ['damn', 'VERB'], ['it', 'PRON'], [',', 'PUNCT'], ['you', 'PRON'], \n",
        "         ['finish', 'VERB'], [',', 'PUNCT'], ['you', 'PRON'], ['hide', 'VERB'], ['the', 'DET'], ['cartridges', 'NOUN'], \n",
        "         ['away', 'ADV'], ['in', 'ADP'], ['the', 'DET'], ['warehouse', 'NOUN'], ['.', 'PUNCT'], ['and', 'CCONJ'], \n",
        "         ['forget', 'VERB'], ['about', 'ADP'], ['your', 'DET'], ['dad', 'NOUN'], ['.', 'PUNCT']]"
      ],
      "execution_count": 111,
      "outputs": []
    },
    {
      "cell_type": "code",
      "metadata": {
        "id": "dS0XryUurMyV"
      },
      "source": [
        "! pip install flair"
      ],
      "execution_count": null,
      "outputs": []
    },
    {
      "cell_type": "code",
      "metadata": {
        "id": "TOlmIYcgruh1",
        "outputId": "a0e4c99e-9dbf-4710-bedd-b43c78905e66",
        "colab": {
          "base_uri": "https://localhost:8080/",
          "height": 456
        }
      },
      "source": [
        "from flair.data import Sentence\n",
        "from flair.models import SequenceTagger\n",
        "import re\n",
        "\n",
        "# загружаем модель теггинга\n",
        "tagger = SequenceTagger.load('pos')\n",
        "\n",
        "\n",
        "\n",
        "sentences = re.split('\\. ', text2)\n",
        "for s in sentences:\n",
        "  sentence = Sentence(s)\n",
        "  tagger.predict(sentence)\n",
        "  print('####')\n",
        "  print(sentence.to_tagged_string())"
      ],
      "execution_count": 112,
      "outputs": [
        {
          "output_type": "stream",
          "text": [
            "2020-10-13 21:03:21,184 loading file /root/.flair/models/en-pos-ontonotes-v0.5.pt\n",
            "####\n",
            "It <PRP> usually <RB> snows <VBZ> heavily <RB> in <IN> Babylon <NNP> in <IN> the <DT> morning <NN>\n",
            "####\n",
            "All <DT> Mesapotamia <NNP> is <VBZ> covered <VBN> with <IN> snow <NN>\n",
            "####\n",
            "Many <JJ> people <NNS> get <VBP> corneal <JJ> burns <NNS> while <IN> looking <VBG> out <RB> into <IN> that <DT> whitish <JJ> desert <NN>\n",
            "####\n",
            "Many <JJ> desert <NN> burn <NN> fires <NNS> whistling <VBG> their <PRP$> favorite <JJ> song <NN> and <CC> can <MD> be <VB> seen <VBN> from <IN> afar <RB>\n",
            "####\n",
            "They <PRP> order <VBP> drinks <NNS> and <CC> their <PRP$> screams <NNS> freeze <VBP> the <DT> soul <NN>\n",
            "####\n",
            "There <EX> are <VBP> other <JJ> guys <NNS> here <RB> , <,> George <NNP>\n",
            "####\n",
            "This <DT> is <VBZ> not <RB> Germany <NNP> , <,> this <DT> is <VBZ> not <RB> Afghanistan <NNP>\n",
            "####\n",
            "George <NNP> , <,> your <PRP$> soldiers <NNS> will <MD> be <VB> torn <VBN> apart <RB> here <RB>\n",
            "####\n",
            "These <DT> are <VBP> 250 <CD> thousand <CD> elite <JJ> soldiers <NNS> of <IN> the <DT> Babylonian <NNP> Kingdom <NNP> ! <,> They <PRP> will <MD> smash <VB> everything <NN> ! <,> They <PRP> will <MD> cover <VB> the <DT> entire <JJ> desert <NN> in <IN> one <CD> hour <NN> ! <,> They <PRP> will <MD> blow <VB> up <RP> all <DT> your <PRP$> destroyers <NNS> , <,> all <DT> your <PRP$> journalists <NNS> , <,> diplomats <NNS>\n",
            "####\n",
            "George <NNP> , <,> you <PRP> are <VBP> a <DT> cowboy <NN>\n",
            "####\n",
            "You <PRP> stop <VBP> , <,> damn <VBP> it <PRP> , <,> you <PRP> finish <VBP> , <,> you <PRP> hide <VBP> the <DT> cartridges <NNS> away <RB> in <IN> the <DT> warehouse <NN>\n",
            "####\n",
            "And <CC> forget <VB> about <IN> your <PRP$> dad <NN> . <.>\n"
          ],
          "name": "stdout"
        }
      ]
    },
    {
      "cell_type": "markdown",
      "metadata": {
        "id": "-OsSvm3oxoab"
      },
      "source": [
        "Этот тоже не справился с many desert"
      ]
    },
    {
      "cell_type": "code",
      "metadata": {
        "id": "gYLMI6S6xuVm",
        "outputId": "18202cf9-cf0a-44aa-c50d-e990a42a8f0c",
        "colab": {
          "base_uri": "https://localhost:8080/",
          "height": 120
        }
      },
      "source": [
        "import nltk\n",
        "nltk.download('averaged_perceptron_tagger')\n",
        "\n",
        "\n",
        "texxt = word_tokenize(text2)\n",
        "nltk_version = nltk.pos_tag(texxt)\n",
        "print(nltk_version)"
      ],
      "execution_count": 118,
      "outputs": [
        {
          "output_type": "stream",
          "text": [
            "[nltk_data] Downloading package averaged_perceptron_tagger to\n",
            "[nltk_data]     /root/nltk_data...\n",
            "[nltk_data]   Package averaged_perceptron_tagger is already up-to-\n",
            "[nltk_data]       date!\n",
            "[('It', 'PRP'), ('usually', 'RB'), ('snows', 'VBZ'), ('heavily', 'RB'), ('in', 'IN'), ('Babylon', 'NNP'), ('in', 'IN'), ('the', 'DT'), ('morning', 'NN'), ('.', '.'), ('All', 'DT'), ('Mesapotamia', 'NNP'), ('is', 'VBZ'), ('covered', 'VBN'), ('with', 'IN'), ('snow', 'JJ'), ('.', '.'), ('Many', 'JJ'), ('people', 'NNS'), ('get', 'VBP'), ('corneal', 'JJ'), ('burns', 'NNS'), ('while', 'IN'), ('looking', 'VBG'), ('out', 'RP'), ('into', 'IN'), ('that', 'DT'), ('whitish', 'JJ'), ('desert', 'NN'), ('.', '.'), ('Many', 'JJ'), ('desert', 'JJ'), ('burn', 'NN'), ('fires', 'NNS'), ('whistling', 'VBG'), ('their', 'PRP$'), ('favorite', 'NN'), ('song', 'NN'), ('and', 'CC'), ('can', 'MD'), ('be', 'VB'), ('seen', 'VBN'), ('from', 'IN'), ('afar', 'NN'), ('.', '.'), ('They', 'PRP'), ('order', 'NN'), ('drinks', 'NNS'), ('and', 'CC'), ('their', 'PRP$'), ('screams', 'NN'), ('freeze', 'VBZ'), ('the', 'DT'), ('soul', 'NN'), ('.', '.'), ('There', 'EX'), ('are', 'VBP'), ('other', 'JJ'), ('guys', 'NNS'), ('here', 'RB'), (',', ','), ('George', 'NNP'), ('.', '.'), ('This', 'DT'), ('is', 'VBZ'), ('not', 'RB'), ('Germany', 'NNP'), (',', ','), ('this', 'DT'), ('is', 'VBZ'), ('not', 'RB'), ('Afghanistan', 'NNP'), ('.', '.'), ('George', 'NNP'), (',', ','), ('your', 'PRP$'), ('soldiers', 'NNS'), ('will', 'MD'), ('be', 'VB'), ('torn', 'JJ'), ('apart', 'RB'), ('here', 'RB'), ('.', '.'), ('These', 'DT'), ('are', 'VBP'), ('250', 'CD'), ('thousand', 'CD'), ('elite', 'JJ'), ('soldiers', 'NNS'), ('of', 'IN'), ('the', 'DT'), ('Babylonian', 'JJ'), ('Kingdom', 'NNP'), ('!', '.'), ('They', 'PRP'), ('will', 'MD'), ('smash', 'VB'), ('everything', 'NN'), ('!', '.'), ('They', 'PRP'), ('will', 'MD'), ('cover', 'VB'), ('the', 'DT'), ('entire', 'JJ'), ('desert', 'NN'), ('in', 'IN'), ('one', 'CD'), ('hour', 'NN'), ('!', '.'), ('They', 'PRP'), ('will', 'MD'), ('blow', 'VB'), ('up', 'RP'), ('all', 'DT'), ('your', 'PRP$'), ('destroyers', 'NNS'), (',', ','), ('all', 'DT'), ('your', 'PRP$'), ('journalists', 'NNS'), (',', ','), ('diplomats', 'NNS'), ('.', '.'), ('George', 'NNP'), (',', ','), ('you', 'PRP'), ('are', 'VBP'), ('a', 'DT'), ('cowboy', 'NN'), ('.', '.'), ('You', 'PRP'), ('stop', 'VBP'), (',', ','), ('damn', 'VBP'), ('it', 'PRP'), (',', ','), ('you', 'PRP'), ('finish', 'VBP'), (',', ','), ('you', 'PRP'), ('hide', 'VBP'), ('the', 'DT'), ('cartridges', 'NNS'), ('away', 'RB'), ('in', 'IN'), ('the', 'DT'), ('warehouse', 'NN'), ('.', '.'), ('And', 'CC'), ('forget', 'VB'), ('about', 'IN'), ('your', 'PRP$'), ('dad', 'NN'), ('.', '.')]\n"
          ],
          "name": "stdout"
        }
      ]
    },
    {
      "cell_type": "markdown",
      "metadata": {
        "id": "gpNvRpGCyvpq"
      },
      "source": [
        "Как мы видим, разметка НЛТК полностью совпадает с разметкой flair"
      ]
    },
    {
      "cell_type": "markdown",
      "metadata": {
        "id": "Bk0HlPLn3dD0"
      },
      "source": [
        "В последней части напишем с помощью Наташи функцию, находящую в тексте все пары слов типа \"не + прилагательное\" - понятно зачем, \"наречие + прилагательное\" - чтобы искать конструкции со словами самый абсолютно очень и т.д., \"наречие + глагол\" - тоже добавляет эмоциональной окраски, типа очень нравится, надолго завораживает - экспрессивные обороты, которые могут помочь в тональном словаре"
      ]
    },
    {
      "cell_type": "code",
      "metadata": {
        "id": "WqmJ5u2ay26O"
      },
      "source": [
        "\n",
        "def function1(text) :\n",
        "  list_adv_adj = []\n",
        "  doc = Doc(text)\n",
        "  doc.segment(segmenter)\n",
        "  doc.tag_morph(morph_tagger)\n",
        "  for i in range(0, len(doc.tokens), 1):\n",
        "    if doc.tokens[i].pos == 'ADV' and doc.tokens[i+1].pos == 'ADJ':\n",
        "      list_adv_adj.append(''.join([doc.tokens[i].text.lower(), ' ', doc.tokens[i+1].text.lower()]))\n",
        "  return(list_adv_adj)\n",
        "\n",
        "def function2(text) :\n",
        "  list_ne_adj = []\n",
        "  doc = Doc(text)\n",
        "  doc.segment(segmenter)\n",
        "  doc.tag_morph(morph_tagger)\n",
        "  for i in range(0, len(doc.tokens), 1):\n",
        "    if doc.tokens[i].text.lower() == 'не' and doc.tokens[i+1].pos == 'ADJ':\n",
        "      list_adv_adj.append(''.join([doc.tokens[i].text.lower(), ' ', doc.tokens[i+1].text.lower()]))\n",
        "  return(list_ne_adj)\n",
        "\n",
        "def function3(text) :\n",
        "  list_adv_verb = []\n",
        "  doc = Doc(text)\n",
        "  doc.segment(segmenter)\n",
        "  doc.tag_morph(morph_tagger)\n",
        "  for i in range(0, len(doc.tokens), 1):\n",
        "    if doc.tokens[i].pos == 'ADV' and doc.tokens[i+1].pos == 'VERB':\n",
        "      list_adv_adj.append(''.join([doc.tokens[i].text.lower(), ' ', doc.tokens[i+1].text.lower()]))\n",
        "  return(list_adv_verb)"
      ],
      "execution_count": 139,
      "outputs": []
    },
    {
      "cell_type": "markdown",
      "metadata": {
        "id": "djSBQ1z-BcJi"
      },
      "source": [
        "Проверим на нашем тексте из первой части программы:"
      ]
    },
    {
      "cell_type": "code",
      "metadata": {
        "id": "h538tsMXBgn0",
        "outputId": "3080b663-c751-4aa7-d898-2b61d6b66d5d",
        "colab": {
          "base_uri": "https://localhost:8080/",
          "height": 67
        }
      },
      "source": [
        "print(function1(text))\n",
        "print(function2(text))\n",
        "print(function3(text))"
      ],
      "execution_count": 148,
      "outputs": [
        {
          "output_type": "stream",
          "text": [
            "['абсолютно слепые']\n",
            "[]\n",
            "[]\n"
          ],
          "name": "stdout"
        }
      ]
    }
  ]
}