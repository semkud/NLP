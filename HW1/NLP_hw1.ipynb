{
  "nbformat": 4,
  "nbformat_minor": 0,
  "metadata": {
    "colab": {
      "name": "NLP-hw1.ipynb",
      "provenance": [],
      "authorship_tag": "ABX9TyPErQe+nIo7YuhcTZYMglDi",
      "include_colab_link": true
    },
    "kernelspec": {
      "name": "python3",
      "display_name": "Python 3"
    }
  },
  "cells": [
    {
      "cell_type": "markdown",
      "metadata": {
        "id": "view-in-github",
        "colab_type": "text"
      },
      "source": [
        "<a href=\"https://colab.research.google.com/github/semkud/NLP/blob/main/HW1/NLP_hw1.ipynb\" target=\"_parent\"><img src=\"https://colab.research.google.com/assets/colab-badge.svg\" alt=\"Open In Colab\"/></a>"
      ]
    },
    {
      "cell_type": "markdown",
      "metadata": {
        "id": "Vj_WhDS5-QlF"
      },
      "source": [
        "Импортируем все, что нам понадобится"
      ]
    },
    {
      "cell_type": "code",
      "metadata": {
        "id": "WEeXsL1k215s"
      },
      "source": [
        "from bs4 import BeautifulSoup\n",
        "import re\n",
        "import nltk\n",
        "import pymorphy2\n",
        "from pymorphy2 import MorphAnalyzer\n",
        "morph = MorphAnalyzer()\n",
        "from nltk.tokenize import word_tokenize\n",
        "import collections\n",
        "import random"
      ],
      "execution_count": 133,
      "outputs": []
    },
    {
      "cell_type": "markdown",
      "metadata": {
        "id": "KmFtiRb8-moj"
      },
      "source": [
        "Эта функция принимает html-страницу с отзывами, токенизирует их по словам, и возвращает частотный словарь слов и 10 отзывов, на которых будет происходить проверка."
      ]
    },
    {
      "cell_type": "code",
      "metadata": {
        "id": "WnVr0QKgjXzt"
      },
      "source": [
        "def tokening(filename):\n",
        "  with open(filename, encoding='utf-8') as f:\n",
        "        html = f.read()\n",
        "\n",
        "  mylist = []   \n",
        "  soup = BeautifulSoup(html,'html.parser')\n",
        "  for post in soup.find_all('div', {'class': 'text use-default-ui'}):\n",
        "    mylist.append(post.get_text()) #Пока у нас список строк, где каждый элемент один отзыв\n",
        "\n",
        "  print('всего отзывов - ', len(mylist))\n",
        "  \n",
        "  for_teaching = []\n",
        "  for_testing = []  \n",
        "  random.shuffle(mylist) #Перемешаем для чистоты эксперимента\n",
        "  for_teaching = mylist[:-10] # Возьмем все без 10 для обучения\n",
        "  for_testing = mylist[-10:] # И 10 последних для проверки\n",
        "\n",
        "  Tokens = []\n",
        "  for review in for_teaching:\n",
        "    a = word_tokenize(review)\n",
        "    words = [w.lower() for w in a if w.isalpha()] #приводим к нижнему регистру и выбрасываем все неслова\n",
        "    for word in words:\n",
        "      Tokens.append((morph.parse(word)[0].normal_form)) #записываем начальную форму в список\n",
        "  counter = collections.Counter(Tokens)\n",
        "  return counter, for_testing"
      ],
      "execution_count": 134,
      "outputs": []
    },
    {
      "cell_type": "markdown",
      "metadata": {
        "id": "ltEEMJlS_eTj"
      },
      "source": [
        "Функция, которая составляет списки слов, которые встречаются только в положительных или только отрицательных отзывах"
      ]
    },
    {
      "cell_type": "code",
      "metadata": {
        "id": "Hbmh3sY6pDZG"
      },
      "source": [
        "def distillate(counter1, counter2, mylist):\n",
        "  for word in counter1:\n",
        "    if not word in counter2:\n",
        "      mylist.append(word)"
      ],
      "execution_count": 135,
      "outputs": []
    },
    {
      "cell_type": "markdown",
      "metadata": {
        "id": "xDs9UquPBkhC"
      },
      "source": [
        "Функция, которая проверяет отзыв по словам, чтобы определить, положительный он или отрицательный."
      ]
    },
    {
      "cell_type": "code",
      "metadata": {
        "id": "t2kl4Ildt7iP"
      },
      "source": [
        "def testing(list, q):\n",
        "  Accuracy = []\n",
        "  for review in list:\n",
        "    \n",
        "    init_form = []\n",
        "    karma = 0\n",
        "    a = word_tokenize(review)\n",
        "    words = [w.lower() for w in a if w.isalpha()]\n",
        "    for word in words:\n",
        "      init_form.append((morph.parse(word)[0].normal_form)) #стокенизировали отзыв\n",
        "\n",
        "    for form in init_form:\n",
        "      if form in veryGood:\n",
        "        karma = karma + 1\n",
        "      else:\n",
        "        if form in veryBad:\n",
        "          karma = karma -1 #посчитали каких слов больше встретилось\n",
        "    #print(review, karma) #можно распечатать пару отзыв - оценка его\n",
        "    if q is '+': # Если второй аргумент функции - +, то есть сейчас мы тестируем положительные отзывы, то мы \"справились\" ,если карма больше 0\n",
        "      if karma > 0:\n",
        "        Accuracy.append(karma)\n",
        "    else:\n",
        "      if karma < 0:\n",
        "        Accuracy.append(karma)\n",
        "  print ('Точность предсказания - ', len(Accuracy)/len(list))"
      ],
      "execution_count": 141,
      "outputs": []
    },
    {
      "cell_type": "markdown",
      "metadata": {
        "id": "hPUqcoiSBCuj"
      },
      "source": [
        "Создали некоторые списки"
      ]
    },
    {
      "cell_type": "code",
      "metadata": {
        "id": "H7bDilUIufH6"
      },
      "source": [
        "Goodrev = [] #Список, в который мы положим отзывы, на которых будем проверять нашу программу\n",
        "Badrev = []\n",
        "veryGood = [] #Слова, которые встречаются только в положительных отзывах\n",
        "veryBad = []"
      ],
      "execution_count": 137,
      "outputs": []
    },
    {
      "cell_type": "markdown",
      "metadata": {
        "id": "L3I7pUBcB5o-"
      },
      "source": [
        "Поехали"
      ]
    },
    {
      "cell_type": "code",
      "metadata": {
        "id": "1JD-DaTUdFxo",
        "outputId": "fa2b2f94-aa95-471f-c033-a5c84fc0b18f",
        "colab": {
          "base_uri": "https://localhost:8080/",
          "height": 50
        }
      },
      "source": [
        "BadR, Badrev = tokening('ОтзывыПлохие.html')\n",
        "GoodR, Goodrev = tokening('ОтзывыХорошие.html')"
      ],
      "execution_count": 138,
      "outputs": [
        {
          "output_type": "stream",
          "text": [
            "всего отзывов -  330\n",
            "всего отзывов -  330\n"
          ],
          "name": "stdout"
        }
      ]
    },
    {
      "cell_type": "code",
      "metadata": {
        "id": "5GFzZXFK2M4L"
      },
      "source": [
        "distillate(BadR, GoodR, veryBad)\n",
        "distillate(GoodR, BadR, veryGood)"
      ],
      "execution_count": 139,
      "outputs": []
    },
    {
      "cell_type": "code",
      "metadata": {
        "id": "jkVWw6C60Mby",
        "outputId": "4ab11414-9eb2-4b24-ed52-e6364cb5c5be",
        "colab": {
          "base_uri": "https://localhost:8080/",
          "height": 50
        }
      },
      "source": [
        "testing(Badrev, '-')\n",
        "testing(Goodrev, '+')"
      ],
      "execution_count": 142,
      "outputs": [
        {
          "output_type": "stream",
          "text": [
            "Точность предсказания -  1.0\n",
            "Точность предсказания -  0.5\n"
          ],
          "name": "stdout"
        }
      ]
    }
  ]
}