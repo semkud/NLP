{
  "nbformat": 4,
  "nbformat_minor": 0,
  "metadata": {
    "colab": {
      "name": "Proga_project.ipynb",
      "provenance": [],
      "collapsed_sections": [],
      "include_colab_link": true
    },
    "kernelspec": {
      "name": "python3",
      "display_name": "Python 3"
    },
    "language_info": {
      "name": "python"
    }
  },
  "cells": [
    {
      "cell_type": "markdown",
      "metadata": {
        "id": "view-in-github",
        "colab_type": "text"
      },
      "source": [
        "<a href=\"https://colab.research.google.com/github/semkud/NLP/blob/main/Proga_project.ipynb\" target=\"_parent\"><img src=\"https://colab.research.google.com/assets/colab-badge.svg\" alt=\"Open In Colab\"/></a>"
      ]
    },
    {
      "cell_type": "code",
      "metadata": {
        "id": "zYe20flD7DuO",
        "colab": {
          "base_uri": "https://localhost:8080/"
        },
        "outputId": "86d16a37-8065-4005-ae8a-820c7c50494a"
      },
      "source": [
        "import requests\n",
        "from tqdm.auto import tqdm\n",
        "from datetime import datetime\n",
        "import pandas as pd\n",
        "import time\n",
        "import random\n",
        "\n",
        "import networkx as nx\n",
        "import matplotlib.pyplot as plt \n",
        "from networkx.algorithms.community import k_clique_communities\n",
        "\n",
        "\n",
        "from google.colab import drive\n",
        "drive.mount('/content/drive')\n",
        "\n",
        "TOKENS = [\"fa6d0efe3a0559893d9c334a46c738d5d9770e2f970a8d878b600b20c9d5821508244d1a510907d0eb984\", \"ce5d83181b825e49f40dfbea9f14aca8001f22ae825b95c6c72fe7b0eaee625674b0ce25f37c11ab25d3e\"]\n",
        "\n",
        "TOKEN_s = \""\n",
        "VERSION = \"5.130\"\n",
        "friends_get_url = \"https://api.vk.com/method/friends.get\"\n",
        "is_friends = \"https://api.vk.com/method/friends.areFriends\"\n",
        "mutual = \"https://api.vk.com/method/friends.getMutual\"\n",
        "newmutual = \"https://api.vk.com/method/execute.getMutual\"\n",
        "newfriends = \"https://api.vk.com/method/execute.getFriends\"\n",
        "\n",
        "make_targets = lambda lst: \",\".join(str(id) for id in lst)\n",
        "parts = lambda lst, n=25: (lst[i:i + n] for i in iter(range(0, len(lst), n)))"
      ],
      "execution_count": 132,
      "outputs": [
        {
          "output_type": "stream",
          "text": [
            "Mounted at /content/drive\n"
          ],
          "name": "stdout"
        }
      ]
    },
    {
      "cell_type": "markdown",
      "metadata": {
        "id": "HWEMj4OOqC4m"
      },
      "source": [
        "## Ниже скрипты для execute.getFriends и execute.getMutual"
      ]
    },
    {
      "cell_type": "markdown",
      "metadata": {
        "id": "jNtFw13Ko6nZ"
      },
      "source": [
        "var targets = Args.targets;\n",
        "var common_friends = {};\n",
        "var req;\n",
        "var parametr = \"\";\n",
        "var start = 0;\n",
        "var a;\n",
        "\n",
        "// из строки с целями вынимаем каждую цель\n",
        "while(start<=targets.length-1){\n",
        "    if (targets.substr(start, 1) != \",\" && start != targets.length-1){\n",
        "        parametr = parametr + targets.substr(start, 1);\n",
        "    }\n",
        "    else {\n",
        "        // сразу делаем запросы, как только вытащили id\n",
        "        req = API.friends.get({\"user_id\":parametr});\n",
        "        if (req) {\n",
        "            common_friends = common_friends + [req];\n",
        "        }\n",
        "        else {\n",
        "            common_friends = common_friends + [0];\n",
        "        }\n",
        "        parametr = \"\";\n",
        "    }\n",
        "    start = start + 1;\n",
        "}\n",
        "return common_friends;"
      ]
    },
    {
      "cell_type": "markdown",
      "metadata": {
        "id": "iytq1K9io_Lp"
      },
      "source": [
        "var source = Args.source2;\n",
        "var targets = Args.targets;\n",
        "var common_friends = {};\n",
        "var req;\n",
        "var parametr = \"\";\n",
        "var start = 0;\n",
        "// из строки с целями вынимаем каждую цель\n",
        "while(start<=targets.length-1){\n",
        "    if (targets.substr(start, 1) != \",\" && start != targets.length-1){\n",
        "        parametr = parametr + targets.substr(start, 1);\n",
        "    }\n",
        "    else {\n",
        "        // сразу делаем запросы, как только вытащили id\n",
        "        req = API.friends.getMutual({\"source_uid\":source, \"target_uid\":parametr});\n",
        "        if (req) {\n",
        "            common_friends = common_friends + [req];\n",
        "        }\n",
        "        else {\n",
        "            common_friends = common_friends + [0];\n",
        "        }\n",
        "        parametr = \"\";\n",
        "    }\n",
        "    start = start + 1;\n",
        "}\n",
        "return common_friends;"
      ]
    },
    {
      "cell_type": "markdown",
      "metadata": {
        "id": "lh5Hb3txo8GS"
      },
      "source": [
        ""
      ]
    },
    {
      "cell_type": "code",
      "metadata": {
        "id": "Ke09nWz1VOVD"
      },
      "source": [
        "def get_friends(id:int, token:str):\n",
        "  friend_list = requests.get(friends_get_url,params={'user_id': id, 'access_token': token, 'v': VERSION,'offset': 0}).json()['response']['items']\n",
        "  return friend_list"
      ],
      "execution_count": 133,
      "outputs": []
    },
    {
      "cell_type": "code",
      "metadata": {
        "id": "43GIhw1CVlCe"
      },
      "source": [
        "def build_graph(id:int, token:str):\n",
        "  friend_list = get_friends(id, token)\n",
        "  #print(friend_list)\n",
        "\n",
        "  G = nx.Graph()\n",
        "  for i in friend_list:\n",
        "    G.add_node(i)\n",
        "\n",
        "  for i in parts(friend_list):\n",
        "    r = requests.get(newmutual, params={'source2': id, 'targets': make_targets(i), 'access_token': TOKEN, 'v': VERSION}).json()['response']\n",
        "    time.sleep(2)\n",
        "    for a in range(0, len(i)):\n",
        "      if str(type(r[a])) == \"<class 'list'>\":\n",
        "        for b in r[a]:\n",
        "          G.add_edge(i[a], b)\n",
        "  #print(G.number_of_edges())\n",
        "  return G"
      ],
      "execution_count": 134,
      "outputs": []
    },
    {
      "cell_type": "code",
      "metadata": {
        "id": "DNpAARIzG3f2"
      },
      "source": [
        "def collecting_data2(id:int, fake, token:str):\n",
        "  global flag\n",
        "\n",
        "  G = build_graph(id, token)\n",
        "  ### Проверка, что все еще работаем\n",
        "  s = requests.get(mutual, params={'source_uid': 84326052, 'target_uid':97101908, 'access_token': token, 'v': VERSION}).json()['response']\n",
        "  if s[0] != 98601385:\n",
        "    flag = 1\n",
        "\n",
        "  number_of_friends = G.number_of_nodes()\n",
        "  number_of_lonelies = nx.number_of_isolates(G) / number_of_friends\n",
        "  try:\n",
        "    density = nx.density(G)\n",
        "  except:\n",
        "    density = -1\n",
        "  try:\n",
        "    assortativity = nx.degree_assortativity_coefficient(G)\n",
        "  except:\n",
        "    assortativity = -1\n",
        "  try:\n",
        "    clustering = nx.average_clustering(G)\n",
        "  except:\n",
        "    clustering = -1\n",
        "  try:\n",
        "    transitivity = nx.transitivity(G)\n",
        "  except:\n",
        "    transitivity = -1\n",
        "\n",
        "  k4=list(k_clique_communities(G, 4))\n",
        "  four_cliq_number = len(k4)\n",
        "  try:\n",
        "    four_cliq_number_maxsize = len(sorted(k4, key=len, reverse = True)[0]) / number_of_friends\n",
        "  except:\n",
        "    four_cliq_number_maxsize = 0\n",
        "\n",
        "  k5=list(k_clique_communities(G, 5))\n",
        "  five_cliq_number = len(k5)\n",
        "  try:\n",
        "    five_cliq_number_maxsize = len(sorted(k5, key=len, reverse = True)[0]) / number_of_friends\n",
        "  except:\n",
        "    five_cliq_number_maxsize = 0\n",
        "\n",
        "  k6=list(k_clique_communities(G, 6))\n",
        "  six_cliq_number = len(k6)\n",
        "  try:\n",
        "    six_cliq_number_maxsize = len(sorted(k6, key=len, reverse = True)[0]) / number_of_friends\n",
        "  except:\n",
        "    six_cliq_number_maxsize = 0\n",
        "\n",
        "\n",
        "  d = {'id': id, 'Число друзей': number_of_friends, 'Процент одиночек': number_of_lonelies, 'Плотность связей': density, 'Ассортативность': assortativity, 'Кф. кластеризации': clustering, 'Кф. транзитивности': transitivity,\n",
        "           'Число клик_4': four_cliq_number, 'Размер_4': four_cliq_number_maxsize,\n",
        "           'Число клик_5': five_cliq_number, 'Размер_5': five_cliq_number_maxsize,\n",
        "           'Число клик_6': six_cliq_number, 'Размер_6': six_cliq_number_maxsize, 'Фейк': fake}\n",
        "\n",
        "  return(d)"
      ],
      "execution_count": 144,
      "outputs": []
    },
    {
      "cell_type": "code",
      "metadata": {
        "id": "yCiNbdOB07Ru",
        "colab": {
          "base_uri": "https://localhost:8080/"
        },
        "outputId": "7ba7056d-1566-43eb-ac09-0d5670c15a81"
      },
      "source": [
        "#перевод файла\n",
        "with open('fakesss.txt', encoding='utf-8') as f:\n",
        "\n",
        "  text = f.read()\n",
        "  fakes = text.splitlines()\n",
        "\n",
        "fakes_int =[]\n",
        "for fake in fakes:\n",
        "  fakes_int.append(int(fake))\n",
        "\n",
        "  \n",
        "flag = 0\n",
        "a = 1\n",
        "results = []\n",
        "while (flag != 1) & (a<len(fakes_int)):\n",
        "  token = TOKENS[a % 2]\n",
        "  results.append(collecting_data2(fakes_int[a], 1, token))\n",
        "  print(a*100/len(fakes_int), '%  done')\n",
        "  if a % 10 == 0:\n",
        "    mydataframe = pd.DataFrame.from_dict(results)\n",
        "    filename = 'dataframe_a_' + str(a)\n",
        "    mydataframe.to_csv(filename, sep='\\t', encoding='utf-8')\n",
        "    print('succesfully written!')\n",
        "    results = []\n",
        "  print(flag)\n",
        "  a = a + 1\n",
        "  "
      ],
      "execution_count": null,
      "outputs": [
        {
          "output_type": "stream",
          "text": [
            "3.225806451612903 %  done\n",
            "0\n",
            "6.451612903225806 %  done\n",
            "0\n",
            "9.67741935483871 %  done\n",
            "0\n"
          ],
          "name": "stdout"
        },
        {
          "output_type": "stream",
          "text": [
            "/usr/local/lib/python3.7/dist-packages/networkx/algorithms/assortativity/correlation.py:287: RuntimeWarning: invalid value encountered in double_scalars\n",
            "  return (xy * (M - ab)).sum() / numpy.sqrt(vara * varb)\n"
          ],
          "name": "stderr"
        },
        {
          "output_type": "stream",
          "text": [
            "12.903225806451612 %  done\n",
            "0\n",
            "16.129032258064516 %  done\n",
            "0\n",
            "19.35483870967742 %  done\n",
            "0\n",
            "22.580645161290324 %  done\n",
            "0\n",
            "25.806451612903224 %  done\n",
            "0\n"
          ],
          "name": "stdout"
        }
      ]
    },
    {
      "cell_type": "code",
      "metadata": {
        "id": "cCIiqvW4Whxl"
      },
      "source": [
        "def collecting_data(id):\n",
        "  G = build_graph(id)\n",
        "\n",
        "  number_of_friends = G.number_of_nodes()\n",
        "  number_of_lonelies = nx.number_of_isolates(G) / number_of_friends\n",
        "  density = nx.density(G)\n",
        "  assortativity = nx.degree_assortativity_coefficient(G)\n",
        "  clustering = nx.average_clustering(G)\n",
        "  transitivity = nx.transitivity(G)\n",
        "\n",
        "\n",
        "  communities = list(k_clique_communities(G, 4))\n",
        "  sorted_communities = sorted(communities, key=len, reverse = True)\n",
        "  if len(sorted_communities) >= 3:\n",
        "    number_of_clusters = len(sorted_communities)\n",
        "    G_sub1 = G.subgraph(sorted_communities[0])\n",
        "    number_of_1_cl = G_sub1.number_of_nodes() / number_of_friends\n",
        "    density_1cl = nx.density(G_sub1)\n",
        "    assortativity_1сl = nx.degree_assortativity_coefficient(G_sub1)\n",
        "    transitivity_1cl = nx.transitivity(G_sub1)\n",
        "\n",
        "    G_sub2 = G.subgraph(sorted_communities[1])\n",
        "    number_of_2_cl = G_sub2.number_of_nodes() / number_of_friends\n",
        "    density_2cl = nx.density(G_sub2)\n",
        "    assortativity_2сl = nx.degree_assortativity_coefficient(G_sub2)\n",
        "    transitivity_2cl = nx.transitivity(G_sub2)\n",
        "\n",
        "    G_sub3 = G.subgraph(sorted_communities[2])\n",
        "    number_of_3_cl = G_sub3.number_of_nodes() / number_of_friends\n",
        "    density_3cl = nx.density(G_sub3)\n",
        "    assortativity_3сl = nx.degree_assortativity_coefficient(G_sub3)\n",
        "    transitivity_3cl = nx.transitivity(G_sub3)\n",
        "    cl_prm = 5\n",
        "\n",
        "\n",
        "  d = {'Число друзей': number_of_friends, 'Процент одиночек': number_of_lonelies, 'Плотность связей': density, 'Ассортативность': assortativity, 'Кф. кластеризации': clustering, 'Кф. транзитивности': transitivity, 'Число кластеров': number_of_clusters,\n",
        "           'Процент людей 1кл': number_of_1_cl, 'Плотность связей 1кл': density_1cl, 'Ассортативность 1кл': assortativity_1сl, 'Кф. транзитивности 1кл': transitivity_1cl,\n",
        "           'Процент людей 2кл': number_of_2_cl, 'Плотность связей 2кл': density_2cl, 'Ассортативность 2кл': assortativity_2сl, 'Кф. транзитивности 2кл': transitivity_2cl,\n",
        "           'Процент людей 3кл': number_of_3_cl, 'Плотность связей 3кл': density_3cl, 'Ассортативность 3кл': assortativity_3сl, 'Кф. транзитивности 3кл': transitivity_3cl, 'Параметр Клике': cl_prm}\n",
        "  return d"
      ],
      "execution_count": null,
      "outputs": []
    },
    {
      "cell_type": "code",
      "metadata": {
        "id": "IYER2c-RjFjJ",
        "outputId": "32ba113b-ef41-4ab4-db60-814efb0ed731",
        "colab": {
          "base_uri": "https://localhost:8080/"
        }
      },
      "source": [
        "s = requests.get(mutual, params={'source_uid': 84326052, 'target_uid':97101908, 'access_token': token, 'v': VERSION}).json()['response']\n",
        "print(s)"
      ],
      "execution_count": 142,
      "outputs": [
        {
          "output_type": "stream",
          "text": [
            "[98601385]\n"
          ],
          "name": "stdout"
        }
      ]
    },
    {
      "cell_type": "code",
      "metadata": {
        "id": "Ab5x497dNVTZ"
      },
      "source": [
        "def new_build_graph(id:int, token:str):\n",
        "  friend_list = get_friends(id, token)\n",
        "  #print(friend_list)\n",
        "\n",
        "  G = nx.Graph()\n",
        "  for i in friend_list:\n",
        "    G.add_node(i)\n",
        "\n",
        "  for i in parts(friend_list):\n",
        "    r = requests.get(newfriends, params={'targets': make_targets(i), 'access_token': TOKEN, 'v': VERSION}).json()['response']\n",
        "    #print(r)\n",
        "    time.sleep(2)\n",
        "    r_new = []\n",
        "    for a in r:\n",
        "      if a != 0:\n",
        "        r_new.append(list(set(friend_list) & set(a['items'])))\n",
        "      else:\n",
        "        r_new.append(0)\n",
        "      #print(a, \"/n\")\n",
        "      #print(r_new)\n",
        "    for a in range(0, len(i)):\n",
        "      if str(type(r_new[a])) == \"<class 'list'>\":\n",
        "        for b in r_new[a]:\n",
        "          G.add_edge(i[a], b)\n",
        "  return G"
      ],
      "execution_count": null,
      "outputs": []
    },
    {
      "cell_type": "code",
      "metadata": {
        "id": "XAJKc1tEWKD0"
      },
      "source": [
        "def show_graph(G):\n",
        "  pos=nx.spring_layout(G)\n",
        "  plt.figure(figsize=(35, 35))\n",
        "  nx.draw_networkx_nodes(G, pos, node_color='red', node_size=2) \n",
        "  nx.draw_networkx_edges(G, pos, edge_color='blue')\n",
        "  plt.axis('off') \n",
        "  plt.show()"
      ],
      "execution_count": 96,
      "outputs": []
    }
  ]
}
