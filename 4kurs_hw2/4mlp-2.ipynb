{
  "nbformat": 4,
  "nbformat_minor": 0,
  "metadata": {
    "colab": {
      "name": "mlp-2.ipynb",
      "provenance": [],
      "collapsed_sections": [],
      "authorship_tag": "ABX9TyNBe6hVsGavU24eSjX3yuT1",
      "include_colab_link": true
    },
    "kernelspec": {
      "name": "python3",
      "display_name": "Python 3"
    },
    "language_info": {
      "name": "python"
    }
  },
  "cells": [
    {
      "cell_type": "markdown",
      "metadata": {
        "id": "view-in-github",
        "colab_type": "text"
      },
      "source": [
        "<a href=\"https://colab.research.google.com/github/semkud/NLP/blob/main/4kurs_hw2/4mlp-2.ipynb\" target=\"_parent\"><img src=\"https://colab.research.google.com/assets/colab-badge.svg\" alt=\"Open In Colab\"/></a>"
      ]
    },
    {
      "cell_type": "code",
      "metadata": {
        "id": "DpKyklw7Ud5O"
      },
      "source": [
        "!gzip -d Musical_Instruments.json.gz\n",
        "!gzip -d meta_Musical_Instruments.json.gz"
      ],
      "execution_count": null,
      "outputs": []
    },
    {
      "cell_type": "code",
      "metadata": {
        "id": "Sl8Vp1VcWink"
      },
      "source": [
        "!pip install natasha"
      ],
      "execution_count": null,
      "outputs": []
    },
    {
      "cell_type": "code",
      "metadata": {
        "id": "3KgEZ5S_XLYz"
      },
      "source": [
        "!pip install yargy"
      ],
      "execution_count": null,
      "outputs": []
    },
    {
      "cell_type": "code",
      "metadata": {
        "id": "3tVhNvQYXP6h"
      },
      "source": [
        "from yargy import rule, Parser, or_, and_\n",
        "from yargy.predicates import gte, lte, caseless, normalized, dictionary, gram, is_capitalized\n",
        "import json"
      ],
      "execution_count": null,
      "outputs": []
    },
    {
      "cell_type": "code",
      "metadata": {
        "id": "9VJ01T5GjFgn"
      },
      "source": [
        "import pprint"
      ],
      "execution_count": null,
      "outputs": []
    },
    {
      "cell_type": "code",
      "metadata": {
        "id": "tIsjRpL8Zyp7"
      },
      "source": [
        "with open(\"Musical_Instruments.json\", \"r\", encoding='UTF-8') as file:\n",
        "    text_reviews = file.readlines()"
      ],
      "execution_count": null,
      "outputs": []
    },
    {
      "cell_type": "code",
      "metadata": {
        "id": "GWWO9d33gnVe"
      },
      "source": [
        "reviews = []\n",
        "for line in text_reviews:\n",
        "  try:\n",
        "    reviews.append(json.loads(line)['reviewText'])\n",
        "  except:\n",
        "    pass"
      ],
      "execution_count": null,
      "outputs": []
    },
    {
      "cell_type": "code",
      "metadata": {
        "colab": {
          "base_uri": "https://localhost:8080/"
        },
        "id": "Cg7sMN_ERyEP",
        "outputId": "68de00c0-091e-4178-e4bc-47c860b3025e"
      },
      "source": [
        "print(len(reviews))"
      ],
      "execution_count": null,
      "outputs": [
        {
          "output_type": "stream",
          "name": "stdout",
          "text": [
            "1511675\n"
          ]
        }
      ]
    },
    {
      "cell_type": "code",
      "metadata": {
        "id": "XxbN1LQ-cvxZ"
      },
      "source": [
        "with open(\"meta_Musical_Instruments.json\", \"r\", encoding='UTF-8') as file:\n",
        "    meta_text = file.readlines()\n",
        "meta = []\n",
        "for line in meta_text:\n",
        "  try:\n",
        "    meta.append(json.loads(line)['title'])\n",
        "  except:\n",
        "    pass"
      ],
      "execution_count": null,
      "outputs": []
    },
    {
      "cell_type": "code",
      "metadata": {
        "colab": {
          "base_uri": "https://localhost:8080/"
        },
        "id": "sDNjk2CiR7FT",
        "outputId": "096886a2-6958-45ad-b266-723f35b9c4ff"
      },
      "source": [
        "print(len(meta))"
      ],
      "execution_count": null,
      "outputs": [
        {
          "output_type": "stream",
          "name": "stdout",
          "text": [
            "120310\n"
          ]
        }
      ]
    },
    {
      "cell_type": "code",
      "metadata": {
        "id": "pw8gifpkjlVj"
      },
      "source": [
        "del meta_text, text_reviews"
      ],
      "execution_count": null,
      "outputs": []
    },
    {
      "cell_type": "code",
      "metadata": {
        "colab": {
          "base_uri": "https://localhost:8080/"
        },
        "id": "QHxNUB2rjBMz",
        "outputId": "776f16ac-dfea-4722-a5b9-7329867ca8b3"
      },
      "source": [
        "print(reviews[0])\n",
        "print(reviews[1])\n",
        "print(reviews[2])\n",
        "print(reviews[3])\n",
        "print(reviews[4])"
      ],
      "execution_count": null,
      "outputs": [
        {
          "output_type": "stream",
          "name": "stdout",
          "text": [
            "Crocheting for Dummies by Karen Manthey & Susan Brittain is a wonderfully thorough and very informative book for anyone wanting to learn to crochet and or wanting to freshen up their skills.\n",
            "\n",
            "The book reads like a storybook in paragraph form.  Everything is explained in great detail from choosing yarns and hooks, to how to work a large array of crochet stitches, to how to read a pattern, right down to how to care for ones crocheted items.\n",
            "\n",
            "The stitch drawings are clear and expertly done making learning new stitches so much easier.\n",
            "\n",
            "The book has both a contents page and an index for easy referral.  I especially liked the fact that an index was included.  So many crochet books do not include this.  The index makes it very easy to find information on a particular topic quickly.\n",
            "\n",
            "The recommendations for people just learning to crochet are fantastic.  This book wasn't out when I learned to crochet and I learned the hard way about many of the pit falls this book helps one to avoid.  For instance they recommend one start out with a size H-8 crochet hook and a light colored worsted weight yarn.  I learned with a B-1 hook and a fingering weight yarn.  After 2 whole days of crocheting it was 36\" long and 1.5\" tall.  I was trying to make a baby blanket for my doll (which never got made).\n",
            "\n",
            "The book contains humor, not just in the cartoons but in the instructions as well which makes for very entertaining reading while one learns a new craft.  I always appreciate having a teacher with a sense of humor!\n",
            "\n",
            "A good sampling of designs is included so that one can try out their skills.  These include sweaters, an afghan, doilies, hot pads, pillow, scarves, floral motifs, and bandanas.\n",
            "\n",
            "I am a crochet designer and I read the book cover to cover like a storybook while on vacation this past week.  I thoroughly enjoyed it and learned a few things as well.  I would highly recommend this book to anyone interested in the art of crochet.\n",
            "Very helpful...\n",
            "EASY TO UNDERSTAND AND A PROMPT SERVICE TOO\n",
            "My girlfriend use quite often\n",
            "Arrived as described. Very happy.\n"
          ]
        }
      ]
    },
    {
      "cell_type": "code",
      "metadata": {
        "colab": {
          "base_uri": "https://localhost:8080/"
        },
        "id": "jvDl_JAGkGLA",
        "outputId": "d5e4d78c-fb6c-4e47-b368-1b411de6e7db"
      },
      "source": [
        "print(meta[0])\n",
        "print(meta[1])\n",
        "print(meta[2])\n",
        "print(meta[3])\n",
        "print(meta[4])"
      ],
      "execution_count": null,
      "outputs": [
        {
          "output_type": "stream",
          "name": "stdout",
          "text": [
            "Wooden Percussion 2 Piece Set of 3 Inch Cricket and Inch Owl\n",
            "Wooden Percussion 3 Piece Set Frog, Cricket and Owl, 3 Inches\n",
            "Hal Leonard Vivaldi Four Seasons for Piano (Original Italian Text)\n",
            "The Turn of the Screw (vocal score)\n",
            "Suite for Organ (including the Trumpet Voluntary) [Sheet Music Book]\n"
          ]
        }
      ]
    },
    {
      "cell_type": "markdown",
      "metadata": {
        "id": "Bdy-tWUY6j-I"
      },
      "source": [
        "# Размышления\n",
        "Перед нами датасет отзывов на музыкальные товары. Мы хотим извлечь из него именнованные сущности - названия музыкальных товаров. Предложим следующие способы\n",
        "1. В Датасете отзывов рассмотреть поле \"текст отзыва\" и пройтись по нему парсером yargy \"х х название_инструмента х х\", причем множество названий инструментов взять из головы, опираясь на жизненный опыт и свои знания о музыке.\n",
        "2. В Датасете метаданных посмотреть на поле \"категория\", составить множество все возможных категорий, убрать лишние, оставить только музыкальные инструменты, и уже их использовать для поиска по отзывам.\n",
        "3. В Датасете метаданных посмотреть поле \"заголовок\", составить словарь частотности униграм, биграм и триграм без стоп-слов. Оставить те, которые содержат в себе музыкальные инструменты, использовать при поиске в отзывах.\n",
        "4. По словарю униграмм из предыдущего пункта - выделить названия производителей типа yamacha, sony, mixman. Использовать для поиска не название музыкального инструмента, а фирму. Обратная сторона медали такого метода - в заголовке всегда указано полное название типа \"Сони ХЕ-10235 стерео с блютусом наушники\", а в отзывах скорее всего будет просто \"наушники\"\n"
      ]
    },
    {
      "cell_type": "code",
      "metadata": {
        "colab": {
          "base_uri": "https://localhost:8080/"
        },
        "id": "uMAX4_qTEHFY",
        "outputId": "7f536b31-d488-4aa8-8d2d-feaa787f3af4"
      },
      "source": [
        "for a in range(200):\n",
        "  print(meta[a]['title'])"
      ],
      "execution_count": null,
      "outputs": [
        {
          "output_type": "stream",
          "name": "stdout",
          "text": [
            "Wooden Percussion 2 Piece Set of 3 Inch Cricket and Inch Owl\n",
            "Wooden Percussion 3 Piece Set Frog, Cricket and Owl, 3 Inches\n",
            "Hal Leonard Vivaldi Four Seasons for Piano (Original Italian Text)\n",
            "The Turn of the Screw (vocal score)\n",
            "Suite for Organ (including the Trumpet Voluntary) [Sheet Music Book]\n",
            "Wiley Publishers Crocheting For Dummies Revised\n",
            "Nook Audio OE250 Headphones\n",
            "Being Here\n",
            "Hal Leonard The Big Klezmer Fake Book\n",
            "Paul Winter: Missa Gaia (Earth Mass) - SATB\n",
            "Music Theory Staff Paper Notebook\n",
            "Ukulele Chord Changer and Songbook Set\n",
            "Yamaha Dx7 Digital Synthesizer\n",
            "Jazz Pieces for the Classical Guitar: Seventeen Famous Jazz 'standards' Arranged for the Classical Guitar\n",
            "Alfred Alfred's Pro Audio Series: Beginning Pro Tools LE 8 (DVD)\n",
            "Alfred's Kid's Guitar Course, Complete Starter Pack: Everything You Need to Play Today!\n",
            "Alfreds Teach Yourself to Play Ukulele, Complete Starter Pack\n",
            "Journey - Greatest Hits: Easy Piano\n",
            "Ben Folds The Best Imitation Of Myself: A Retrospective Piano/Vocal/Chords\n",
            "Horizons Health 5Th Grade Student Book\n",
            "Natural Maracas Unpainted Set of 30\n",
            "Alfred Conversations in Clave (DVD)\n",
            "WB Funk Rhythm Chops DVD: Beyond Basics\n",
            "WB Acoustic Blues Guitar DVD: Beyond Basics\n",
            "Premium Clarke Tinwhistle-Key of C\n",
            "Guitar A-Frame Support\n",
            "The Sweetone Tinwhistle\n",
            "The Best of Acoustic Guitar Solos - 1999\n",
            "Hal Leonard Best of Sade-Piano/Vocal/Guitar\n",
            "Hal Leonard Solos for the Trumpet Player (Trumpet/Piano)\n",
            "Love Songs Of The 90s - E-z Play Today\n",
            "Essential Repertoire for the Young Choir Level One Treble: Performance/Accompaniment CD Pak, Disc 1 &amp; 2\n",
            "Oak Pennywhistle In D\n",
            "Oak Pennywhistle In C (Oak Classic Pennywhistles)\n",
            "Super Chord Chart for Guitar\n",
            "Edith Mcintosh Theory and Musicianship - Book 1 (Lessons with Worksheets and Supplements)\n",
            "Bach made Easy\n",
            "Santorella Publications Brimhall : Theory Notebook Complete-Spanish\n",
            "Strolling Strings : A Night in Vienna\n",
            "Waggon Wheels: Violin\n",
            "The Choral Singer's Handbook Softcover\n",
            "Singing Games and Rhymes for Early Years\n",
            "First Edition Recorder Book (Discontinued)\n",
            "The Next Level: Rudimental Snare Drum Techniques\n",
            "Fretboard Flashcards: 6 String Bass Edition\n",
            "Alesis Midiverb 2 16 Bit Digital Effects Processor\n",
            "I Had No Choice\n",
            "Linda Collins - Beyond The Basics: A Songbook\n",
            "Fauxchet Stitching Book 2, Beyond The Basics\n",
            "2018 las nuevas Mujeres reloj inteligente LED pantalla a Color de Moda Deporte pod&oacute;metro reloj tel&eacute;fono inteligente Android reloj inteligente (Black/Silver)\n",
            "Banned Books Bracelet - Carolyn Forsman (Slide Show)\n",
            "Piano Wizard Premier w/MIDI/USB\n",
            "Shiraz Accordion Box\n",
            "Hal Leonard 650804 Starter Pack with Ukulele, Method Book/online audio and DVD\n",
            "ChordBuddy Guitar Learning System for Right Handed Guitars. Includes ChordBuddy, 2 Month Lesson Plan DVD and Song Book\n",
            "Axe Heaven MD-603 Classic Sunburst F-Style Mandolin Mini Guitar Replica\n",
            "Taylor Swift - Wildest Dreams - P/V/G Sheet Music Single\n",
            "Twenty One Pilots - Stressed Out - Sheet Music Single\n",
            "Hal Leonard 158666 Recorder\n",
            "Tim McGraw - Humble and Kind - Sheet Music Single\n",
            "Ruth B - Lost Boy - Sheet Music Single\n",
            "Florida Georgia Line - H.O.L.Y. - Sheet Music Single\n",
            "Dueling Banjos Sheet Music\n",
            "Luke Bryan - Huntin', Fishin' And Lovin' Every Day - Sheet Music Single\n",
            "Ruth B - Lost Boy - EASY PIANO Sheet Music Single.\n",
            "Twenty One Pilots - Ride - Sheet Music Single\n",
            "Game of Thrones (Theme from the HBO series) - EASY PIANO Sheet Music Single\n",
            "Lukas Graham - 7 Years - EASY PIANO Sheet Music Single\n",
            "Patterned Desk Calendar\n",
            "Imagine Dragons - Thunder - Piano/Vocal/Guitar Sheet Music Single\n",
            "Jamey DAVID BAKER -HOW TO LEARN TUNES-VOLUME 76- Book/CD\n",
            "Jamey Play A Long Vol 50 The Magic of Miles (Book and CD)\n",
            "Arbonne Re9 Advanced Firming Body Cream 2 Oz\n",
            "Inspiration Station Progressions of Expressions Volume 2 Book\n",
            "Inspiration Station Progressions of Expressions Volume 1 Book\n",
            "Cavallini Santa Collage Wrapping Paper\n",
            "Fundamental Bonnie Raitt: Piano/Vocal/Guitar Songbook\n",
            "Jump Right In, Alto Saxophone, the instrumental series, CD + book 1\n",
            "2000 Watts Maximum 8 Channel Professional Powered Mixer XE-708\n",
            "Carson Dellosa D.J. Inkers Cozy Reading Center Bulletin Board Set (610020)\n",
            "How To Play The Harmonica Book And Kit\n",
            "Carson Dellosa Woodland Animal Talkers Bulletin Board Set (110191)\n",
            "2016 Ken Schultz's Daily Fishing Tips Desk Calendar\n",
            "2017 Weekly Desk Light Pink Cambridge Planner Calendar\n",
            "Dust Tactics: Axis Gorillas\n",
            "EXPLORING ZOOLOGY:LAB.GDE.&gt;CUSTOM&lt; (LL)\n",
            "Cavallini 3-Pack Sticky Vintage Dogs Memo Pads\n",
            "Cavallini 3-Pack Vintage Dogs 4 by 5.5-Inch Mini Notebooks\n",
            "Cavallini 2017 London Desk Calendar\n",
            "Habits of a Successful Middle School Musician - Flute\n",
            "The Little Black Book of Beatles Songs for Ukulele\n",
            "Violin Exam Pieces 2012-2015, ABRSM Grade 8: The Complete 2012-2015 Syllabus (ABRSM Exam Pieces)\n",
            "EInstruction CPS Response Pad\n",
            "States and Capitals Songs - DVD\n",
            "Music Write: Recording and Composing\n",
            "Mighty Bright Classic Sight Reader Stand Light with Bulb: Light Green\n",
            "Boss Ph-2 Super Phaser\n",
            "Ernie Ball How to Play Guitar Phase 1 Book\n",
            "Ernie Ball How To Play Guitar Phase 2 Book\n",
            "Homespun The 12-String Guitar of Roger McGuinn DVD\n",
            "Pediatrics Medstudy Question and Answers CD vol. 3\n",
            "LDS: EFY Especially for Youth 2007 Power in Purity Songbook - LDS Sheet Music\n",
            "Mighty Bright MicroClip Light 2-Pack Blue and Silver\n",
            "Media Composer 7: Effect Essentials\n",
            "2015 Orthodox Icon Calendar - Icons of the Virgin Mary\n",
            "Joes 2 Pros 5 Book SQL Server 2008 Developer Desk Reference Tutorial (Exam 70-433 will be...\n",
            "Skeptical Guitarist Sheet Music Folder (UKEBLUES)\n",
            "Maharaja Classical Indian Santoor/Santur - Mahogany Colour - 31 Notes - 93 Strings (PDI-CI)\n",
            "Adobe Audition 2.0, 1 DVD-ROM\n",
            "Sela SE 001 Snare Cajon Kit with Instructions and Audio CD\n",
            "Audacity Audio Recorder and Editor - Your professional sound studio for recording, editing and playing all common audio files: WAV, AIFF, FLAC, MP2, MP3, OGG Vorbis I For PC + Mac\n",
            "Gakken Theremin mini plus\n",
            "SX-150 Analog Synthesizer Kit\n",
            "Vif 4/4 Full Size Handmade Violin Natural Acoustic Fiddle Bow Rosin Case Maple\n",
            "Closeout 4/4 Handmade Stradivari Copy Style Violin Fiddle Case Bow Set Full Size\n",
            "Full Size 4/4 Handmade Stradivari Copy German Style Violin Fiddle Case Bow Set\n",
            "19.6 Inches Waterproof Rigid LED Strip Light Bar (LED Cabinet Light)-30 SMD5050 Bright LEDs (Warm White)\n",
            "Hal Leonard Dan Fogelberg Greatest Hits\n",
            "Bray Universal Terylene Flower Guitar Strap With Reinforced Ends - Perfect For Any Acoustic, Electric, Bass And Classical Guitar\n",
            "piano keyboard\n",
            "CBConcept Brand High Power LED GU10 Bulb 3W 120V Cool White\n",
            "Decorative LED Rope Light Christmas Lighting 50ft w/ Connector - Multi-Color\n",
            "Microky English Solostar Duet Bundle\n",
            "The Fehrs. Four Centuries of Mennonite Migration\n",
            "Rob Papen The Four Element Synth\n",
            "LEDPRO 16.4 Ft RGB Color Changing Kit with LED Flexible Strip, 44 Button Do It Yourself Controller + Remote and 4A Power Supply\n",
            "PIANOS KEYBOARDS &amp; ORGANS CHORD MORE THAN 140 CHORDS CHART POSTER MUSIC SCALE\n",
            "QSC K10 2-Way Powered Speaker - 1000 Watts, 1x10\"\n",
            "Woodnote Twin Color Wood Grain/Ivory Alto Recorder-Baroque fingering/3 pieces construction\n",
            "Woodnote Wood Grain Tenor Recorder-Baroque fingering/3 pieces construction\n",
            "Motorcycle Digital Speedo Tachometer Odometer KPH &amp; MPH Streetfighter Chop Trike\n",
            "Hal Leonard Dan Fogelberg Complete Songs Vol.1\n",
            "Cakewalk\n",
            "Recorder - childrens musical instrument\n",
            "Music Maker - Hand Made Lap Harp - Easy to Play Musical Instrument\n",
            "Hohner USA Beginner Harmonica\n",
            "Sony ECM-F01 Boundary Effect Microphone with Omni-Directional Pick-Up Pattern (Discontinued by Manufacturer)\n",
            "Sony ECMMS907 Digital Recording Microphone\n",
            "Sony MDR-V700DJ DJ-Style Monitor Series Headphones (Old Version)\n",
            "Sony ECM-MS957 Stereo Microphone with Rotating Mid Capsule\n",
            "Yamaha PSR240 61-Note Touch-Sensitive Portable Electronic Keyboard\n",
            "Yamaha PSRD1 61-Note Dance and Techno Portable Electronic Keyboard\n",
            "Music Write 2000\n",
            "Yamaha PA3B Power Adapter for Portable Electronic Keyboards and Digital Drums\n",
            "Yamaha PSS16 37-Note Portable Electronic Keyboard\n",
            "Yamaha DD9M Touch-Sensitive Digital Drums\n",
            "Yamaha YPR50 76-Note Digital Piano\n",
            "Yamaha PSR340 61-Note Touch-Sensitive Portable Electronic Keyboard\n",
            "Mixman Studio Pro 3.0\n",
            "Jet Audio Plus\n",
            "Musicshop 2.02\n",
            "Multimedia History of Music and Great Composers\n",
            "Music Conservatory\n",
            "Vegas\n",
            "SoundEdit 16 2.0\n",
            "Acid DJ 1.0\n",
            "Magix Music Maker Professional 1.0\n",
            "Acid Music 1.0\n",
            "Sound Forge 4.5\n",
            "Hip Hop eJay\n",
            "eMedia Intermediate Guitar Method v1 [Old Version, Mac only]\n",
            "Acid Music 2.0\n",
            "Digital Orchestrator\n",
            "First Act MMS40 Music Stand\n",
            "Pro Quality Acoustic Guitar Strings\n",
            "First Act MX011 Guitar Stand\n",
            "First Act MBS22 Bongos\n",
            "First Act Player Series Tambourine\n",
            "Adobe After Effects 4.1 Production Bundle [Old Version]\n",
            "Cakewalk Home Studio 7.0\n",
            "Magix Music Maker Video Jam\n",
            "Techno eJay\n",
            "Magix Music Maker Deluxe G5\n",
            "Magix Music Studio Deluxe\n",
            "Magix Music Studio Generation 5\n",
            "Music Center Pro\n",
            "GPX C1005 Karaoke Party Machine with Singalong Microphone\n",
            "Boomwhackers Octavator Tube Caps\n",
            "Cakewalk Guitar Tracks 2.0\n",
            "Yamaha YRS24B Soprano Recorder\n",
            "Yamaha C40 Full Size Nylon-String Classical Guitar, Tan, Full\n",
            "Mixman Studio Pro 4.0\n",
            "MixMan DJ Megamix\n",
            "Concert Grand Piano with Matching Bench - Color Black\n",
            "Hohner HU-212 Standard Ukulele Nato Fretboard\n",
            "Gardner Bender 45-V11BK Reusable Grip-Strip, 11 in, Black\n",
            "Monster Cable P500-M-30 Performer 500 Microphone Cable 30 ft. (Gold-Contact XLRs) (Discontinued by Manufacturer)\n",
            "Monster S100-M-20 Standard 100 Microphone Cable (20 Feet)\n",
            "Monster Cable P500-IJ-12A Performer 500 Monster Jazz Instrument Cable (12 ft, angled to straight .25-in. plugs)\n",
            "Monster Cable SLDA88-MX-5 StudioLink 500 DA-88 Interconnect 5 Meter (D-Sub to MXLR\n",
            "Monster Standard 100-21' Instrument Cable - Straight to Straight &frac14;&rdquo; plugs\n",
            "Monster Standard 100 Microphone Cable 30 Ft. - Precision Xlrs (S100-M-30)\n",
            "MONSTER CABLE Interconnect 2 Meter - 1/4&quot; Stereo to XLR Female; (SL500I-CFX-2)\n",
            "Make A Sound\n",
            "Yamaha DJXIIB DJ Box That Rocks! with AC Adapter\n",
            "Yamaha DD50AD Touch-Sensitive Digital Drums with AC Adapter\n",
            "Yamaha PSRGX76AD 76-Note Touch-Sensitive Portable Electronic Keyboard with AC Adapter\n",
            "Yamaha PSR260AD 61-Note Touch-Sensitive Portable Electronic Keyboard with AC Adapter\n",
            "Yamaha PSR280AD 61-Note Touch-Sensitive Portable Electronic Keyboard with AC Adapter\n",
            "Singing Machine SMG268 Top Load CD Graphics Karaoke System\n"
          ]
        }
      ]
    },
    {
      "cell_type": "markdown",
      "metadata": {
        "id": "aWXwmxevFpAU"
      },
      "source": [
        "Раз уж нам дали метаданные, и мы в них уже подсмотрели, и увидели, что помимо музыкальных инструментов, как таковых, еще встречаются провода, микрофоны, ноты, книжки, будем реализовывать 3-й подход."
      ]
    },
    {
      "cell_type": "code",
      "metadata": {
        "colab": {
          "base_uri": "https://localhost:8080/"
        },
        "id": "v4FDLX6xGGaI",
        "outputId": "10217653-057a-4a25-e01a-5df12b1f3802"
      },
      "source": [
        "all_titles = ''\n",
        "for i in range(len(meta)):\n",
        "  all_titles = all_titles + ' ' + meta[i].lower()\n",
        "\n",
        "\n",
        "tokens = all_titles.split()\n",
        "print(len(tokens))"
      ],
      "execution_count": null,
      "outputs": [
        {
          "output_type": "stream",
          "name": "stdout",
          "text": [
            "1222055\n"
          ]
        }
      ]
    },
    {
      "cell_type": "code",
      "metadata": {
        "colab": {
          "base_uri": "https://localhost:8080/"
        },
        "id": "zUaGMhYKTasJ",
        "outputId": "af37467b-c66b-413f-ab5b-cb55c05eb737"
      },
      "source": [
        "print(len(all_titles))"
      ],
      "execution_count": null,
      "outputs": [
        {
          "output_type": "stream",
          "name": "stdout",
          "text": [
            "8101256\n"
          ]
        }
      ]
    },
    {
      "cell_type": "code",
      "metadata": {
        "colab": {
          "base_uri": "https://localhost:8080/"
        },
        "id": "iECTAPanIcHx",
        "outputId": "548dc4d8-c681-4ebe-8b10-cc53710bd4f2"
      },
      "source": [
        "import collections\n",
        "import nltk\n",
        "nltk.download('stopwords')\n",
        "from nltk.corpus import stopwords\n",
        "sw = stopwords.words('english')\n",
        "unigrams = collections.Counter(tokens)\n",
        "for w in sw:\n",
        "  unigrams[w]=0\n",
        "print(unigrams.most_common(100))"
      ],
      "execution_count": null,
      "outputs": [
        {
          "output_type": "stream",
          "name": "stdout",
          "text": [
            "[nltk_data] Downloading package stopwords to /root/nltk_data...\n",
            "[nltk_data]   Package stopwords is already up-to-date!\n",
            "[('guitar', 27058), ('-', 23382), ('black', 9937), ('electric', 9251), ('acoustic', 6930), ('bass', 6761), ('case', 6417), ('microphone', 6388), ('&amp;', 5817), ('series', 5044), ('cable', 4730), ('stand', 4457), ('drum', 4446), ('set', 4121), ('audio', 4049), ('bag', 3954), ('dj', 3698), ('pedal', 3650), ('2', 3649), ('pack', 3639), ('strap', 3631), ('violin', 3517), ('light', 3449), ('fender', 3426), ('string', 3341), ('pro', 3311), ('led', 3265), ('x', 3172), ('guitar,', 2988), ('music', 2945), ('3', 2734), ('size', 2709), ('strings', 2686), ('6', 2684), ('ukulele', 2646), ('inch', 2614), ('power', 2612), ('instrument', 2589), ('white', 2566), ('xlr', 2561), ('keyboard', 2458), ('/', 2454), ('percussion', 2443), ('blue', 2399), ('4', 2395), ('red', 2390), ('professional', 2373), ('gold', 2351), ('mic', 2269), ('yamaha', 2267), ('gig', 2264), ('wireless', 2220), ('pickup', 2209), ('system', 2189), ('studio', 2189), ('kit', 2157), ('speaker', 2142), ('natural', 2084), ('+', 2060), ('w/', 2016), ('piano', 1989), ('medium', 1977), ('1', 1953), ('digital', 1934), ('pick', 1918), ('wood', 1874), ('style', 1867), ('picks', 1867), ('cymbal', 1852), ('mini', 1851), ('key', 1840), ('new', 1820), ('10', 1751), ('custom', 1750), ('leather', 1743), ('chrome', 1724), ('amplifier', 1720), ('5', 1717), ('sound', 1708), ('12', 1703), ('stage', 1690), ('deluxe', 1688), ('silver', 1683), ('replacement', 1681), ('4/4', 1677), ('bridge', 1648), ('vintage', 1647), ('adapter', 1624), ('cables', 1612), ('effects', 1599), ('bundle', 1595), ('tuner', 1575), ('standard', 1544), ('saxophone', 1528), ('usb', 1520), ('single', 1518), ('portable', 1441), ('steel', 1437), ('head', 1426), ('mixer', 1402)]\n"
          ]
        }
      ]
    },
    {
      "cell_type": "code",
      "metadata": {
        "id": "7s9KhNLGWVLo"
      },
      "source": [
        "import nltk\n",
        "from nltk import ngrams\n",
        "bigrams = collections.Counter(ngrams(tokens, 2))\n",
        "trigrams = collections.Counter(ngrams(tokens, 3))"
      ],
      "execution_count": null,
      "outputs": []
    },
    {
      "cell_type": "code",
      "metadata": {
        "id": "6YYfwMfGM8s0"
      },
      "source": [
        "musical_entities = dictionary({'guitar', 'case', 'microphone', 'cable', 'drum', 'bag', 'pedal', 'strap', 'violin', 'string', 'ukulele', 'keyboard', 'percussion', 'system', 'piano', 'cymbal', 'amplifier', 'adapter', 'tuner', 'saxophone', 'mixer'})"
      ],
      "execution_count": null,
      "outputs": []
    },
    {
      "cell_type": "code",
      "metadata": {
        "id": "k7bTGFJBPSAT"
      },
      "source": [
        "mus_stuff = rule(\n",
        "    gram('ADJF').optional().repeatable(),\n",
        "    musical_entities\n",
        ")"
      ],
      "execution_count": null,
      "outputs": []
    },
    {
      "cell_type": "code",
      "metadata": {
        "id": "MI1tzjxCP8Fg"
      },
      "source": [
        "def print_rule_matches(r, t):\n",
        "    parser = Parser(r)\n",
        "    for match in parser.findall(t):\n",
        "        start, end = match.span\n",
        "        print(t[start:end])"
      ],
      "execution_count": null,
      "outputs": []
    },
    {
      "cell_type": "code",
      "metadata": {
        "id": "XqA8OfCaQBwo"
      },
      "source": [
        "print_rule_matches(mus_stuff, str(all_titles[0:10000]))\n",
        "#И тут я понял, что ярги специально для русского языка\n",
        "#Но если нельзя впрямую указать прилагательные, тогда можно их перечислить"
      ],
      "execution_count": null,
      "outputs": []
    },
    {
      "cell_type": "code",
      "metadata": {
        "colab": {
          "base_uri": "https://localhost:8080/"
        },
        "id": "NSA_DOGaWnW8",
        "outputId": "0948ad4e-2a5b-4c26-95aa-468789da7e25"
      },
      "source": [
        "print(bigrams.most_common(100))"
      ],
      "execution_count": null,
      "outputs": [
        {
          "output_type": "stream",
          "name": "stdout",
          "text": [
            "[(('electric', 'guitar'), 5302), (('acoustic', 'guitar'), 3517), (('guitar', 'strap'), 2117), (('-', 'black'), 1558), (('gig', 'bag'), 1509), (('electric', 'guitar,'), 1435), (('bass', 'guitar'), 1275), (('guitar', 'with'), 1138), (('power', 'supply'), 1067), (('guitar', 'pick'), 996), (('set', 'of'), 990), (('guitar', 'strings'), 972), (('guitar', '-'), 965), (('bundle', 'with'), 909), (('acoustic', 'electric'), 884), (('guitar', 'picks'), 846), (('key', 'of'), 844), (('seismic', 'audio'), 813), (('effects', 'pedal'), 759), (('instrument', 'cable'), 738), (('pack', 'of'), 731), (('electric', 'bass'), 729), (('les', 'paul'), 720), (('male', 'to'), 719), (('polishing', 'cloth'), 718), (('classical', 'guitar'), 717), (('case', 'for'), 709), (('full', 'size'), 706), (('condenser', 'microphone'), 701), (('music', 'stand'), 658), (('with', 'case'), 637), (('made', 'in'), 618), (('latin', 'percussion'), 608), (('acoustic-electric', 'guitar'), 604), (('audio', '-'), 602), (('gig', 'bag,'), 599), (('seymour', 'duncan'), 577), (('vic', 'firth'), 577), (('case', 'with'), 571), (('bass', 'drum'), 558), (('guitar', 'strings,'), 554), (('with', 'gig'), 553), (('cable', '-'), 551), (('strap', 'with'), 529), (('xlr', 'male'), 525), (('drum', 'set'), 525), (('oscar', 'schmidt'), 525), (('for', 'guitar'), 514), (('and', 'polishing'), 509), (('xlr', 'female'), 506), (('alto', 'saxophone'), 506), (('guitar', 'bass'), 505), (('singing', 'bowl'), 501), (('meinl', 'percussion'), 497), (('snare', 'drum'), 495), (('guitar', 'case'), 482), ((\"levy's\", 'leathers'), 477), (('for', 'fender'), 477), (('guitar', 'effects'), 473), (('microphone', 'cable'), 468), (('system', 'with'), 457), (('right', 'angle'), 455), (('for', 'electric'), 455), (('-', 'natural'), 453), (('microphone', 'with'), 448), (('stand', 'with'), 448), (('strap', '-'), 447), (('case', 'and'), 443), (('planet', 'waves'), 441), (('patch', 'cable'), 438), (('to', 'xlr'), 430), (('pro', 'audio'), 429), (('effect', 'pedal'), 429), (('adapter', 'for'), 428), (('violin', 'with'), 425), (('guitar', 'pickguard'), 423), (('digital', 'piano'), 418), (('perris', 'leathers'), 417), (('soprano', 'ukulele'), 416), (('microphone', 'for'), 410), (('wireless', 'microphone'), 408), (('ernie', 'ball'), 406), (('american', 'dj'), 404), (('heavy', 'duty'), 402), (('for', 'acoustic'), 396), (('ac', 'adapter'), 394), (('case', '-'), 393), (('led', 'strip'), 388), (('guitar', 'stand'), 387), (('leather', 'guitar'), 386), (('stainless', 'steel'), 378), (('musical', 'instrument'), 376), (('microphone', 'stand'), 376), (('bag', 'for'), 375), (('acoustic', 'guitar,'), 374), (('guitar', 'strap,'), 374), (('4/4', 'size'), 372), (('dreadnought', 'acoustic'), 368), (('3/4', 'size'), 367), (('6', 'string'), 362)]\n"
          ]
        }
      ]
    },
    {
      "cell_type": "code",
      "metadata": {
        "colab": {
          "base_uri": "https://localhost:8080/"
        },
        "id": "f1x2dnQ7W987",
        "outputId": "cef72756-bfff-41bb-e0f1-a2f3f82d7ab6"
      },
      "source": [
        "print(trigrams.most_common(100))"
      ],
      "execution_count": null,
      "outputs": [
        {
          "output_type": "stream",
          "name": "stdout",
          "text": [
            "[(('seismic', 'audio', '-'), 561), (('and', 'polishing', 'cloth'), 490), (('acoustic', 'electric', 'guitar'), 415), (('electric', 'guitar', 'with'), 413), (('electric', 'guitar', '-'), 404), (('guitar', 'strap', 'with'), 397), (('xlr', 'male', 'to'), 384), (('electric', 'guitar', 'strings'), 355), (('humes', '&amp;', 'berg'), 353), (('guitar', 'effects', 'pedal'), 349), (('guitar', 'strap', '-'), 330), (('harmonica,', 'key', 'of'), 326), (('electric', 'bass', 'guitar'), 307), (('with', 'gig', 'bag,'), 303), (('acoustic', 'guitar', 'strings'), 288), (('leather', 'guitar', 'strap'), 287), (('custom', 'made', 'by'), 285), (('gibson', 'les', 'paul'), 275), (('made', 'by', 'worlds'), 274), (('by', 'worlds', 'best'), 274), (('to', 'xlr', 'female'), 270), (('with', 'case', 'and'), 261), (('turntable', 'needle', 'for'), 261), (('dreadnought', 'acoustic', 'guitar'), 256), (('worlds', 'best', 'cables'), 256), (('durpower', 'phonograph', 'record'), 253), (('male', 'to', 'xlr'), 249), (('for', 'electric', 'guitar'), 246), (('with', 'gig', 'bag'), 235), (('power', 'supply', 'cord'), 229), (('4/4', 'full', 'size'), 216), (('acoustic', 'guitar', 'with'), 215), (('key', 'of', 'c'), 213), (('wireless', 'microphone', 'system'), 206), (('polishing', 'cloth', '-'), 205), (('phonograph', 'record', 'player'), 205), (('made', 'in', 'usa'), 204), (('record', 'player', 'turntable'), 204), (('player', 'turntable', 'needle'), 202), (('guitar', 'gig', 'bag'), 198), (('violin', 'with', 'case'), 191), (('gig', 'bag', 'for'), 187), (('bundle', 'with', 'gig'), 185), (('male', 'to', 'female'), 185), (('&frac14;', 'inch', '(6.35mm)'), 184), (('guitar', 'effect', 'pedal'), 183), (('solid-body', 'electric', 'guitar,'), 181), (('bronze', 'acoustic', 'guitar'), 175), (('electric', 'guitar', 'strings,'), 175), (('cutaway', 'acoustic-electric', 'guitar'), 173), (('walker', '&amp;', 'williams'), 173), (('acoustic', 'guitar', 'strings,'), 172), (('guitar', 'bundle', 'with'), 172), (('cable', 'custom', 'made'), 172), (('xlr', 'female', 'to'), 167), (('gig', 'bag', 'and'), 167), (('acoustic', 'guitar', '-'), 163), (('ac', 'adapter', 'for'), 162), (('guitar', 'with', 'gig'), 160), (('for', 'acoustic', 'guitar'), 154), (('sabian', 'cymbal', 'variety'), 148), (('set', 'of', '4'), 148), (('(discontinued', 'by', 'manufacturer)'), 146), (('best', 'cables', '&ndash;'), 145), (('guitar', '-', 'natural'), 144), (('for', 'fender', 'strat'), 144), (('acoustic', 'violin', 'with'), 140), (('set', 'of', '2'), 136), (('-', 'made', 'in'), 135), (('ukulele', 'bundle', 'with'), 135), (('euro', 'plug', 'adapter'), 135), (('electric', 'guitar,', 'black'), 134), (('guitar', 'combo', 'amp'), 134), (('instrument', 'cable', 'custom'), 134), (('vic', 'firth', 'american'), 133), (('guitar', '-', 'black'), 132), (('r/a', 'pancake', 'type'), 132), (('violin', 'shoulder', 'rest'), 130), (('tibetan', 'singing', 'bowl'), 129), (('acoustic', 'electric', 'guitar,'), 128), (('gig', 'bag,', 'tuner,'), 128), (('austin', 'bazaar', 'instructional'), 128), (('bazaar', 'instructional', 'dvd,'), 127), (('inlay', 'sticker', 'decals'), 127), (('bass', 'drum', 'pedal'), 124), (('body', 'electric', 'guitar'), 124), (('power', 'supply', 'adaptor'), 124), (('adaptor', 'compatible', 'with'), 124), (('wide', '-', '29-54&quot;'), 124), (('-', '29-54&quot;', 'length'), 124), (('led', 'strip', 'light'), 123), (('instrument', 'cable', '-'), 123), (('-', '2&quot;', 'wide'), 123), (('2&quot;', 'wide', '-'), 123), (('guitar', 'strings', '-'), 122), (('supply', 'adaptor', 'compatible'), 122), (('-', 'us', 'plug'), 122), (('acoustic-electric', 'guitar', '-'), 121), (('markers', 'inlay', 'sticker'), 121), (('squier', 'by', 'fender'), 120)]\n"
          ]
        }
      ]
    },
    {
      "cell_type": "markdown",
      "metadata": {
        "id": "GmqrIdPGHCJf"
      },
      "source": [
        "Окей, раз нельзя просто указать, часть речи, перечислим все интересующие нас прилагательные, которые значимы для названия товара"
      ]
    },
    {
      "cell_type": "code",
      "metadata": {
        "id": "NlE5VcTEZOPr"
      },
      "source": [
        "adjs = dictionary({'electric', 'acoustic', 'bass', 'guitar', 'classical', 'snare'})"
      ],
      "execution_count": null,
      "outputs": []
    },
    {
      "cell_type": "code",
      "metadata": {
        "id": "xEv2Fz2MaFfG"
      },
      "source": [
        "mus_stuff2 = rule(\n",
        "    adjs.optional().repeatable(),\n",
        "    musical_entities\n",
        ")\n",
        "def save_rule_matches(r, t):\n",
        "    matches = []\n",
        "    parser = Parser(r)\n",
        "    for match in parser.findall(t):\n",
        "        start, end = match.span\n",
        "        matches.append((t[start:end]))\n",
        "    return matches"
      ],
      "execution_count": null,
      "outputs": []
    },
    {
      "cell_type": "code",
      "metadata": {
        "id": "hnkZotZvGJrp"
      },
      "source": [
        "a=0\n",
        "NERs = []\n",
        "while a < 100000:\n",
        "  longstring= ' '.join(reviews[a:a+2000])\n",
        "  longstring = longstring.lower()\n",
        "  NERs = NERs+(save_rule_matches(mus_stuff2, longstring))\n",
        "  a=a+2000"
      ],
      "execution_count": 126,
      "outputs": []
    },
    {
      "cell_type": "markdown",
      "metadata": {
        "id": "u132jmoSIc2C"
      },
      "source": [
        "Теперь наконец посмотрим, какие NER мы встретили в корпусе отзывов.\n"
      ]
    },
    {
      "cell_type": "code",
      "metadata": {
        "colab": {
          "base_uri": "https://localhost:8080/"
        },
        "id": "p6nn8jpaJsw-",
        "outputId": "2163c942-be8c-4e25-b271-0af783a502c8"
      },
      "source": [
        "NERs_from_reviews = collections.Counter(NERs)\n",
        "print(NERs_from_reviews.most_common(30))"
      ],
      "execution_count": 127,
      "outputs": [
        {
          "output_type": "stream",
          "name": "stdout",
          "text": [
            "[('guitar', 19984), ('case', 6149), ('cable', 4520), ('strap', 3977), ('pedal', 3097), ('microphone', 2821), ('bag', 2122), ('drum', 2122), ('keyboard', 1483), ('acoustic guitar', 1298), ('system', 1282), ('electric guitar', 790), ('piano', 777), ('adapter', 761), ('tuner', 728), ('mixer', 699), ('violin', 660), ('ukulele', 627), ('cymbal', 379), ('saxophone', 345), ('guitar strap', 331), ('amplifier', 321), ('bass guitar', 264), ('guitar case', 260), ('bass drum', 242), ('classical guitar', 200), ('snare drum', 137), ('percussion', 125), ('guitar cable', 93), ('guitar bag', 25)]\n"
          ]
        }
      ]
    },
    {
      "cell_type": "markdown",
      "metadata": {
        "id": "kpbJejaRKggo"
      },
      "source": [
        "В целом ничего интересного... Самые популярные по прежнему односложные.\n",
        "Давайте выделим триграммы: x x NER и NER x x."
      ]
    },
    {
      "cell_type": "code",
      "metadata": {
        "id": "cemC0g3iRwfe"
      },
      "source": [
        "final_NERs = [x[0] for x in NERs_from_reviews.most_common(30)]"
      ],
      "execution_count": 128,
      "outputs": []
    },
    {
      "cell_type": "code",
      "metadata": {
        "colab": {
          "base_uri": "https://localhost:8080/"
        },
        "id": "rWHdp4AaR6Wy",
        "outputId": "e2ad4470-f8c2-4012-a8c7-6e8101fbb2e6"
      },
      "source": [
        "print(final_NERs[0])"
      ],
      "execution_count": 202,
      "outputs": [
        {
          "output_type": "stream",
          "name": "stdout",
          "text": [
            "guitar\n"
          ]
        }
      ]
    },
    {
      "cell_type": "code",
      "metadata": {
        "id": "Pi1oY-glRR9l"
      },
      "source": [
        "longlong_review_string = ' '.join(reviews[0:100000])"
      ],
      "execution_count": 195,
      "outputs": []
    },
    {
      "cell_type": "code",
      "metadata": {
        "id": "RmonrH_sRiwf"
      },
      "source": [
        "longlong_review_string = longlong_review_string.lower()"
      ],
      "execution_count": 196,
      "outputs": []
    },
    {
      "cell_type": "code",
      "metadata": {
        "colab": {
          "base_uri": "https://localhost:8080/"
        },
        "id": "GcYpKPZQRoCv",
        "outputId": "4d38871b-3d23-405a-bf42-547f3dcb6c03"
      },
      "source": [
        "print(len(longlong_review_string))"
      ],
      "execution_count": 204,
      "outputs": [
        {
          "output_type": "stream",
          "name": "stdout",
          "text": [
            "23550849\n"
          ]
        }
      ]
    },
    {
      "cell_type": "code",
      "metadata": {
        "id": "cg6EH3OVSGMq"
      },
      "source": [
        "final_NERs.reverse() #реверс, чтобы сначала прошли биграммы\n",
        "for ner in final_NERs:\n",
        "  longlong_review_string = longlong_review_string.replace(ner, ner.replace(' ','')+'NER')"
      ],
      "execution_count": 203,
      "outputs": []
    },
    {
      "cell_type": "code",
      "metadata": {
        "colab": {
          "base_uri": "https://localhost:8080/"
        },
        "id": "oKJ4v-xOT1rU",
        "outputId": "9b06377f-c7a1-4e6f-aea5-71735a2808dd"
      },
      "source": [
        "import nltk\n",
        "nltk.download('punkt')\n",
        "from nltk.collocations import *\n",
        "from nltk.tokenize import RegexpTokenizer\n",
        "\n",
        "tokenizer = RegexpTokenizer(r'\\w+')\n",
        "\n",
        "trigram_measures = nltk.collocations.TrigramAssocMeasures()\n",
        "token_reviews = tokenizer.tokenize(longlong_review_string)\n",
        "sw += ['i', 'you', 'don', 't', 'that', 've', 'have']\n",
        "token_reviews_filtered = [token for token in token_reviews if token not in sw]"
      ],
      "execution_count": 205,
      "outputs": [
        {
          "output_type": "stream",
          "name": "stdout",
          "text": [
            "[nltk_data] Downloading package punkt to /root/nltk_data...\n",
            "[nltk_data]   Package punkt is already up-to-date!\n"
          ]
        }
      ]
    },
    {
      "cell_type": "code",
      "metadata": {
        "colab": {
          "base_uri": "https://localhost:8080/"
        },
        "id": "S6mn-25HvDn1",
        "outputId": "c204d463-3517-497b-e40b-b648ae19e8a6"
      },
      "source": [
        "print(len(token_reviews_filtered))"
      ],
      "execution_count": 206,
      "outputs": [
        {
          "output_type": "stream",
          "name": "stdout",
          "text": [
            "2206845\n"
          ]
        }
      ]
    },
    {
      "cell_type": "code",
      "metadata": {
        "id": "HBq6RLIMrzsO"
      },
      "source": [
        "finder = TrigramCollocationFinder.from_words(token_reviews_filtered)\n",
        "finder.apply_freq_filter(10)"
      ],
      "execution_count": 207,
      "outputs": []
    },
    {
      "cell_type": "code",
      "metadata": {
        "id": "12iAkkaoXR0D"
      },
      "source": [
        "llh = finder.score_ngrams(trigram_measures.likelihood_ratio)"
      ],
      "execution_count": 208,
      "outputs": []
    },
    {
      "cell_type": "code",
      "metadata": {
        "colab": {
          "base_uri": "https://localhost:8080/"
        },
        "id": "iQDWkV7Au00f",
        "outputId": "9e917d3c-4794-4a1c-e7b3-47a4dae47674"
      },
      "source": [
        "print(llh[0:30])"
      ],
      "execution_count": 209,
      "outputs": [
        {
          "output_type": "stream",
          "name": "stdout",
          "text": [
            "[(('epiphone', 'les', 'paul'), 31283.984062872434), (('last', 'long', 'time'), 30286.669509430903), (('gibson', 'les', 'paul'), 30081.400722819257), (('cm_cr_arp_d_rvw_txt', 'ie', 'utf8'), 29540.582398766895), (('ref', 'cm_cr_arp_d_rvw_txt', 'ie'), 29032.790513553384), (('les', 'paul', 'special'), 28606.557133111324), (('les', 'paul', 'standard'), 28604.79812407917), (('highly', 'recommend', 'anyone'), 28583.95771957575), (('les', 'paul', 'studio'), 28506.650856393695), (('les', 'paul', 'custom'), 28480.957183788763), (('epi', 'les', 'paul'), 28314.02675824242), (('les', 'paul', '100'), 28190.480014365436), (('les', 'paul', 'jr'), 28171.242831225765), (('fits', 'les', 'paul'), 28136.874778692225), (('works', 'great', 'product'), 28107.341260614874), (('les', 'paul', 'traditional'), 28097.366146689954), (('ii', 'les', 'paul'), 28093.280879108483), (('les', 'paul', 'style'), 28086.16173464468), (('les', 'paul', 'electricguitarNERNER'), 28027.665174711583), (('real', 'les', 'paul'), 28026.788659861762), (('les', 'paul', 'perfectly'), 28022.91548809713), (('fit', 'les', 'paul'), 28021.915566653697), (('les', 'paul', 'fits'), 28011.799389456326), (('les', 'paul', 'guitarNERs'), 28005.4267501471), (('like', 'les', 'paul'), 27980.62253912411), (('les', 'paul', 'guitarNER'), 27975.247611838036), (('new', 'les', 'paul'), 27969.643926628585), (('les', 'paul', 'sound'), 27967.516855657566), (('les', 'paul', 'caseNER'), 27966.29917229699), (('les', 'paul', 'like'), 27963.405991052456)]\n"
          ]
        }
      ]
    },
    {
      "cell_type": "code",
      "metadata": {
        "colab": {
          "base_uri": "https://localhost:8080/"
        },
        "id": "-NLuiDI0aT3R",
        "outputId": "5a9547ec-f738-4804-9748-311f953393a0"
      },
      "source": [
        "NER_llhs=[]\n",
        "for a in llh:\n",
        "  for x in a[0]:\n",
        "    if 'NER' in x:\n",
        "      NER_llhs.append(a)\n",
        "NER_llhs"
      ],
      "execution_count": 212,
      "outputs": [
        {
          "output_type": "execute_result",
          "data": {
            "text/plain": [
              "[(('les', 'paul', 'electricguitarNERNER'), 28027.665174711583),\n",
              " (('les', 'paul', 'guitarNERs'), 28005.4267501471),\n",
              " (('les', 'paul', 'guitarNER'), 27975.247611838036),\n",
              " (('les', 'paul', 'caseNER'), 27966.29917229699),\n",
              " (('ernie', 'ball', 'strapNERs'), 23663.69107356319),\n",
              " (('ernie', 'ball', 'strapNER'), 23636.3932187787),\n",
              " (('ernie', 'ball', 'guitarNER'), 23500.785502213905),\n",
              " (('highly', 'recommend', 'guitarNER'), 21796.723188681968),\n",
              " (('highly', 'recommend', 'caseNER'), 21794.318645463347),\n",
              " (('guitarNER', 'highly', 'recommend'), 21734.71817173482),\n",
              " (('cableNER', 'works', 'great'), 18613.69566818341),\n",
              " (('pedalNER', 'works', 'great'), 18236.223508388764),\n",
              " (('adapterNER', 'works', 'great'), 18218.001866913135),\n",
              " (('microphoneNER', 'works', 'great'), 18190.986229857495),\n",
              " (('works', 'great', 'guitarNER'), 18123.77113753747),\n",
              " (('strapNER', 'works', 'great'), 18099.626502132967),\n",
              " (('guitarNER', 'works', 'great'), 18088.80289346465),\n",
              " (('guitarNER', 'long', 'time'), 16608.20782804575),\n",
              " (('would', 'recommend', 'guitarNER'), 15924.921321527323),\n",
              " (('would', 'recommend', 'caseNER'), 15908.068867449136),\n",
              " (('would', 'recommend', 'strapNER'), 15889.329038868338),\n",
              " (('guitarNER', 'would', 'recommend'), 15853.062596638636),\n",
              " (('cableNER', 'works', 'well'), 13411.719706339889),\n",
              " (('microphoneNER', 'works', 'well'), 12978.607724303612),\n",
              " (('works', 'well', 'guitarNER'), 12866.70807559024),\n",
              " (('caseNER', 'well', 'made'), 11946.786016094182),\n",
              " (('well', 'made', 'caseNER'), 11890.977807144756),\n",
              " (('strapNER', 'well', 'made'), 11863.818823450516),\n",
              " (('well', 'made', 'cableNER'), 11850.13873716436),\n",
              " (('cableNER', 'well', 'made'), 11838.728081128771),\n",
              " (('well', 'made', 'guitarNER'), 11814.30925269532),\n",
              " (('guitarNER', 'well', 'made'), 11797.292420657714),\n",
              " (('microphoneNER', 'pop', 'filter'), 11112.025608718694),\n",
              " (('guitarNER', 'highly', 'recommended'), 10681.198507744435),\n",
              " (('guitarNER', 'much', 'better'), 10436.206809085306),\n",
              " (('good', 'quality', 'cableNER'), 10077.460334901407),\n",
              " (('high', 'quality', 'cableNER'), 9954.299301590494),\n",
              " (('guitarNER', 'great', 'product'), 9685.544781836395),\n",
              " (('good', 'quality', 'microphoneNER'), 9655.694621265213),\n",
              " (('good', 'quality', 'strapNER'), 9643.98655265467),\n",
              " (('guitarNER', 'good', 'quality'), 9639.691884435071),\n",
              " (('cableNER', 'good', 'quality'), 9632.521414565115),\n",
              " (('caseNER', 'good', 'quality'), 9579.463297151518),\n",
              " (('good', 'quality', 'guitarNER'), 9572.45656092626),\n",
              " (('high', 'quality', 'caseNER'), 9478.342944416803),\n",
              " (('cableNER', 'great', 'price'), 7913.548825331905),\n",
              " (('cableNERs', 'great', 'price'), 7900.527526030317),\n",
              " (('strapNER', 'great', 'price'), 7877.3273725704275),\n",
              " (('planet', 'waves', 'cableNERs'), 7864.083689662802),\n",
              " (('caseNER', 'great', 'price'), 7862.656944751119),\n",
              " (('guitarNER', 'great', 'price'), 7853.929900717592),\n",
              " (('planet', 'waves', 'tunerNERs'), 7841.104183443793),\n",
              " (('guitarNER', 'stay', 'tune'), 7191.80667297457),\n",
              " (('heavy', 'duty', 'caseNER'), 7107.776000530204),\n",
              " (('12', 'string', 'guitarNER'), 6743.73682636106),\n",
              " (('drumNERs', 'sound', 'great'), 6672.171986249657),\n",
              " (('guitarNER', 'sound', 'great'), 6629.638811857192),\n",
              " (('sound', 'great', 'guitarNER'), 6609.71654997081),\n",
              " (('acousticguitarNERNER', 'sound', 'great'), 6594.624343579573),\n",
              " (('cableNER', 'works', 'fine'), 6576.57771492173),\n",
              " (('best', 'guitarNER', 'ever'), 6572.227774764295),\n",
              " (('guitarNERs', 'sound', 'great'), 6571.832961249489),\n",
              " (('12', 'string', 'guitarNERs'), 6473.194524253278),\n",
              " (('best', 'cableNER', 'ever'), 6382.1129045258285),\n",
              " (('12', 'string', 'acousticguitarNERNER'), 6220.565829089181),\n",
              " (('guitarNER', 'sounds', 'great'), 6104.416598674553),\n",
              " (('local', 'guitarNER', 'store'), 5749.329032983562),\n",
              " (('caseNER', 'gig', 'bagNER'), 5505.166597986079),\n",
              " (('caseNER', 'gig', 'bagNER'), 5505.166597986079),\n",
              " (('gig', 'bagNER', 'caseNER'), 5479.955575263916),\n",
              " (('gig', 'bagNER', 'caseNER'), 5479.955575263916),\n",
              " (('started', 'playing', 'guitarNER'), 5429.430075157419),\n",
              " (('great', 'gig', 'bagNER'), 5411.656340827425),\n",
              " (('1', '4', 'adapterNER'), 5394.028098639463),\n",
              " (('learn', 'play', 'guitarNER'), 5387.922962321276),\n",
              " (('cableNERs', 'work', 'well'), 5340.31053062273),\n",
              " (('work', 'well', 'guitarNER'), 5195.328023672888),\n",
              " (('guitarNER', 'many', 'years'), 5183.185197664501),\n",
              " (('1', '4', 'cableNER'), 5171.64518529439),\n",
              " (('first', 'time', 'guitarNER'), 5158.782487648827),\n",
              " (('cableNER', '1', '4'), 5134.114990930841),\n",
              " (('guitarNER', 'first', 'time'), 5102.871905956915),\n",
              " (('brand', 'new', 'guitarNER'), 4966.568261695824),\n",
              " (('3', '4', 'guitarNER'), 4900.581114466886),\n",
              " (('guitarNER', '20', 'years'), 4878.789813271869),\n",
              " (('high', 'end', 'guitarNERs'), 4762.870142227659),\n",
              " (('local', 'guitarNER', 'center'), 4732.6252456766115),\n",
              " (('high', 'end', 'guitarNER'), 4728.630559980726),\n",
              " (('learning', 'play', 'guitarNER'), 4707.215668514374),\n",
              " (('cableNER', 'good', 'price'), 4701.615153840696),\n",
              " (('low', 'end', 'guitarNER'), 4542.731048153908),\n",
              " (('guitarNER', 'strings', 'last'), 4231.668253578804),\n",
              " (('caseNER', 'well', 'worth'), 4177.617545592815),\n",
              " (('guitarNER', 'much', 'easier'), 4064.861139454864),\n",
              " (('pretty', 'good', 'guitarNER'), 3976.11952542664),\n",
              " (('playing', 'guitarNER', 'years'), 3937.363039793153),\n",
              " (('went', 'guitarNER', 'center'), 3850.167678130927),\n",
              " (('strapNER', 'locks', 'strapNER'), 3848.2946525420157),\n",
              " (('strapNER', 'locks', 'strapNER'), 3848.2946525420157),\n",
              " (('guitarNER', 'strings', 'ever'), 3824.7965000243676),\n",
              " (('bought', 'guitarNER', 'center'), 3806.8132766564863),\n",
              " (('guitarNER', '10', 'years'), 3780.1913253624316),\n",
              " (('beginner', 'guitarNER', 'player'), 3766.4588817298263),\n",
              " (('caseNER', 'well', 'built'), 3764.73923502287),\n",
              " (('guitarNER', 'center', 'buy'), 3731.566031651031),\n",
              " (('guitarNER', '30', 'years'), 3722.4883875861187),\n",
              " (('one', 'guitarNER', 'center'), 3699.330357852759),\n",
              " (('new', 'guitarNER', 'player'), 3688.670932846554),\n",
              " (('learn', 'play', 'ukuleleNER'), 3606.4746177618017),\n",
              " (('dunlop', 'strapNER', 'locks'), 3573.986584147061),\n",
              " (('guitarNER', '15', 'years'), 3531.4847968185695),\n",
              " (('best', 'strapNER', 'locks'), 3526.7958773808755),\n",
              " (('guitarNER', 'every', 'day'), 3496.733133841275),\n",
              " (('guitarNER', 'really', 'like'), 3472.4018704881246),\n",
              " (('start', 'playing', 'guitarNER'), 3470.0563747418146),\n",
              " (('years', 'playing', 'guitarNER'), 3426.6976124436205),\n",
              " (('use', 'strapNER', 'locks'), 3423.140613132977),\n",
              " (('really', 'like', 'guitarNER'), 3374.7374807906517),\n",
              " (('caseNER', 'great', 'value'), 3373.542387054454),\n",
              " (('every', 'guitarNER', 'player'), 3315.4960457288535),\n",
              " (('guitarNER', 'strings', 'sound'), 3288.465902878511),\n",
              " (('great', 'sound', 'guitarNER'), 3267.4399299752927),\n",
              " (('guitarNER', 'great', 'sound'), 3245.0261502938292),\n",
              " (('best', 'guitarNER', 'strings'), 3238.300567299249),\n",
              " (('new', 'guitarNER', 'strings'), 3214.0839813169),\n",
              " (('avid', 'guitarNER', 'player'), 3164.334009740951),\n",
              " (('recommend', 'guitarNER', 'player'), 3162.3083059913793),\n",
              " (('experienced', 'guitarNER', 'player'), 3137.279547449919),\n",
              " (('guitarNERs', 'acoustic', 'electric'), 3096.766683328723),\n",
              " (('professional', 'guitarNER', 'player'), 3070.6347686667295),\n",
              " (('favorite', 'guitarNER', 'strings'), 3023.0405293175395),\n",
              " (('elixir', 'guitarNER', 'strings'), 3018.2172117942664),\n",
              " (('great', 'cableNER', 'great'), 3005.071264664129),\n",
              " (('playing', 'guitarNER', '15'), 2997.3452703837393),\n",
              " (('guitarNER', 'strings', 'market'), 2978.8405538638162),\n",
              " (('great', 'guitarNER', 'great'), 2968.7405582620986),\n",
              " (('playing', 'guitarNER', '30'), 2958.2686692010675),\n",
              " (('entry', 'level', 'guitarNER'), 2934.8685172124888),\n",
              " (('great', 'guitarNER', 'player'), 2932.237107625083),\n",
              " (('playing', 'guitarNER', '20'), 2928.928937452063),\n",
              " (('recommend', 'caseNER', 'anyone'), 2926.171388728932),\n",
              " (('recommend', 'guitarNER', 'anyone'), 2922.9402984816093),\n",
              " (('strings', 'playing', 'guitarNER'), 2912.3234857057864),\n",
              " (('guitarNER', 'sounds', 'good'), 2905.6321262167667),\n",
              " (('guitarNER', 'strings', 'great'), 2899.2827930006183),\n",
              " (('playing', 'guitarNER', 'since'), 2893.7906466279396),\n",
              " (('get', 'pay', 'caseNER'), 2893.681720648547),\n",
              " (('changing', 'strings', 'guitarNER'), 2891.9570839459875),\n",
              " (('playing', 'guitarNER', 'almost'), 2865.277796165583),\n",
              " (('guitarNER', '40', 'years'), 2839.2292218060993),\n",
              " (('playing', 'guitarNER', '10'), 2829.5498187679423),\n",
              " (('love', 'playing', 'guitarNER'), 2818.663691237436),\n",
              " (('playing', 'guitarNER', 'long'), 2808.9784585593916),\n",
              " (('playing', 'guitarNER', '5'), 2802.004496369571),\n",
              " (('new', 'playing', 'guitarNER'), 2798.973981309281),\n",
              " (('guitarNER', 'sound', 'good'), 2777.979722834274),\n",
              " (('great', 'playing', 'guitarNER'), 2776.7611770335507),\n",
              " (('guitarNER', 'strings', 'used'), 2763.2930203811657),\n",
              " (('guitarNERs', 'sound', 'good'), 2731.533916890767),\n",
              " (('change', 'strings', 'guitarNER'), 2721.65587773633),\n",
              " (('guitarNER', 'fits', 'perfectly'), 2719.6005187209466),\n",
              " (('sound', 'good', 'guitarNER'), 2716.835301078015),\n",
              " (('guitarNER', 'strings', 'always'), 2711.7011314490273),\n",
              " (('guitarNER', 'strings', 'best'), 2675.8921345992953),\n",
              " (('guitarNER', 'strings', 'feel'), 2674.472058661994),\n",
              " (('changing', 'guitarNER', 'strings'), 2636.1011337969103),\n",
              " (('guitarNER', 'strings', 'seem'), 2632.7224833735513),\n",
              " (('bronze', 'guitarNER', 'strings'), 2632.360200645475),\n",
              " (('6', 'string', 'guitarNER'), 2625.7337377987787),\n",
              " (('love', 'guitarNER', 'strings'), 2610.3595089085156),\n",
              " (('mixerNER', 'mic', 'stand'), 2599.636525582692),\n",
              " (('really', 'good', 'guitarNER'), 2560.4323264812065),\n",
              " (('strapNER', 'looks', 'great'), 2552.244276845045),\n",
              " (('local', 'guitarNER', 'shop'), 2542.2084595268307),\n",
              " (('guitarNER', 'looks', 'great'), 2533.5293734510565),\n",
              " (('guitarNER', 'strings', 'make'), 2514.292630555647),\n",
              " (('looks', 'great', 'guitarNER'), 2483.5663177958113),\n",
              " (('great', 'guitarNER', 'strings'), 2477.769811740599),\n",
              " (('guitarNER', 'strings', 'like'), 2472.237799566633),\n",
              " (('set', 'guitarNER', 'strings'), 2462.6282613799876),\n",
              " (('guitarNER', 'strings', 'good'), 2442.903921593688),\n",
              " (('great', 'drumNER', 'head'), 2441.3516632160217),\n",
              " (('sounding', 'guitarNER', 'strings'), 2425.18964847755),\n",
              " (('electric', 'guitarNER', 'strings'), 2423.4969500755333),\n",
              " (('change', 'guitarNER', 'strings'), 2419.5278316745776),\n",
              " (('guitarNER', 'strings', 'nanoweb'), 2412.5152609935176),\n",
              " (('guitarNER', 'strings', 'really'), 2412.488631496613),\n",
              " (('guitarNER', 'strings', 'use'), 2409.149459345484),\n",
              " (('brand', 'guitarNER', 'strings'), 2399.1387049566965),\n",
              " (('guitarNER', 'strings', 'strings'), 2394.1270684567985),\n",
              " (('want', 'play', 'guitarNER'), 2377.5497687355837),\n",
              " (('good', 'guitarNER', 'strings'), 2376.2157337536373),\n",
              " (('guitarNER', 'strings', 'light'), 2374.40602687098),\n",
              " (('comes', 'guitarNER', 'strings'), 2351.929225170819),\n",
              " (('guitarNER', 'strings', 'long'), 2343.3712323253176),\n",
              " (('quality', 'guitarNER', 'strings'), 2342.2931308492516),\n",
              " (('guitarNER', 'strings', 'would'), 2339.0600748266897),\n",
              " (('excellent', 'guitarNER', 'strings'), 2333.606878117169),\n",
              " (('guitarNER', 'great', 'strings'), 2311.344388951507),\n",
              " (('great', 'strings', 'guitarNER'), 2310.36828097739),\n",
              " (('88', 'key', 'keyboardNER'), 2303.1366794911664),\n",
              " (('guitarNER', 'sounds', 'like'), 2254.400481828004),\n",
              " (('guitarNER', 'stays', 'tune'), 2173.8700297245487),\n",
              " (('best', 'drumNER', 'heads'), 2092.8580054698114),\n",
              " (('wanted', 'play', 'guitarNER'), 2092.701625185683),\n",
              " (('really', 'nice', 'caseNER'), 2033.415574937439),\n",
              " (('play', 'guitarNER', 'every'), 1987.1935117432677),\n",
              " (('electronic', 'drumNER', 'kit'), 1947.6524398001673),\n",
              " (('guitarNER', '5', 'years'), 1892.9021073972804),\n",
              " (('caseNER', 'perfect', 'fit'), 1884.1813688992631),\n",
              " (('electronic', 'drumNER', 'set'), 1832.8196157761477),\n",
              " (('set', 'strings', 'guitarNER'), 1804.3899524318163),\n",
              " (('easy', 'put', 'guitarNER'), 1675.9408813619611),\n",
              " (('guitarNER', 'sounds', 'amazing'), 1656.4769558887174),\n",
              " (('full', 'size', 'guitarNER'), 1629.1920197493614),\n",
              " (('guitarNER', 'ever', 'owned'), 1628.3980234547582),\n",
              " (('steel', 'string', 'guitarNER'), 1618.7456152405216),\n",
              " (('midi', 'cableNER', 'works'), 1613.495640556709),\n",
              " (('guitarNER', 'sound', 'like'), 1531.0442822265418),\n",
              " (('guitarNER', '50', 'years'), 1519.910174792054),\n",
              " (('steel', 'string', 'guitarNERs'), 1517.1817119859836),\n",
              " (('one', 'best', 'drumNER'), 1505.3484709687948),\n",
              " (('hard', 'shell', 'caseNER'), 1494.5783120545775),\n",
              " (('best', 'acousticguitarNERNER', 'strings'), 1472.9778805721776),\n",
              " (('great', 'sounding', 'guitarNER'), 1428.0917419482007),\n",
              " (('5', 'sustain', 'pedalNER'), 1394.3688649624883),\n",
              " (('favorite', 'guitarNER', 'picks'), 1385.3731423976694),\n",
              " (('buy', 'new', 'guitarNER'), 1346.2978946800547),\n",
              " (('elixir', 'acousticguitarNERNER', 'strings'), 1340.960692331892),\n",
              " (('fender', 'guitarNER', 'picks'), 1334.8841067237893),\n",
              " (('like', 'new', 'guitarNER'), 1328.0966193543513),\n",
              " (('guitarNER', 'sounds', 'better'), 1321.2531938432785),\n",
              " (('guitarNER', 'sound', 'better'), 1302.2131603682758),\n",
              " (('nickel', 'wound', 'electricguitarNERNER'), 1301.7720776453334),\n",
              " (('guitarNERs', 'sound', 'better'), 1272.2945241125165),\n",
              " (('best', 'guitarNER', 'picks'), 1258.7679263064902),\n",
              " (('guitarNER', 'good', 'sound'), 1228.9520411905555),\n",
              " (('guitarNER', 'bass', 'player'), 1189.6585244614007),\n",
              " (('celluloid', 'guitarNER', 'picks'), 1188.738015135501),\n",
              " (('strapNER', 'lock', 'systemNER'), 1145.3763326034386),\n",
              " (('strapNER', 'lock', 'systemNER'), 1145.3763326034386),\n",
              " (('guitarNER', 'picks', 'like'), 1128.9022439752553),\n",
              " (('caseNER', 'fits', 'epiphone'), 1121.1652689394855),\n",
              " (('full', 'sized', 'guitarNER'), 1098.902236870606),\n",
              " (('guitarNER', 'picks', 'great'), 1094.6783583364484),\n",
              " (('new', 'strings', 'guitarNER'), 1091.4897215308429),\n",
              " (('great', 'strapNER', 'price'), 1087.2407577043373),\n",
              " (('best', 'guitarNER', 'stand'), 1082.3442889277057),\n",
              " (('guitarNER', 'teacher', 'recommended'), 1051.5354181634075),\n",
              " (('recommend', 'guitarNER', 'players'), 1050.7929512271894),\n",
              " (('great', 'guitarNER', 'price'), 1046.5331946905615),\n",
              " (('got', 'new', 'guitarNER'), 1046.4398683298677),\n",
              " (('bronze', 'acousticguitarNERNER', 'strings'), 1039.7128890815184),\n",
              " (('great', 'guitarNER', 'picks'), 1027.332369456381),\n",
              " (('never', 'played', 'guitarNER'), 1011.1682613451051),\n",
              " (('make', 'guitarNER', 'sound'), 974.7706190089979),\n",
              " (('guitarNER', 'stand', 'works'), 957.410120839471),\n",
              " (('nylon', 'string', 'guitarNER'), 936.7442013044761),\n",
              " (('great', 'acoustic', 'electricguitarNERNERs'), 919.8285569659745),\n",
              " (('two', 'different', 'guitarNERs'), 918.656637994011),\n",
              " (('strings', 'taylor', 'guitarNER'), 911.3901795772938),\n",
              " (('guitarNER', 'sounded', 'like'), 892.539339849273),\n",
              " (('strings', 'put', 'guitarNER'), 888.6984406452941),\n",
              " (('88', 'note', 'keyboardNER'), 878.7578699682757),\n",
              " (('wireless', 'microphoneNER', 'systemNER'), 861.5749438610986),\n",
              " (('wireless', 'microphoneNER', 'systemNER'), 861.5749438610986),\n",
              " (('taking', 'guitarNER', 'lessons'), 845.6430434216048),\n",
              " (('holds', 'guitarNER', 'well'), 842.4173585972742),\n",
              " (('blue', 'snowball', 'microphoneNER'), 839.1955979240627),\n",
              " (('great', 'starter', 'guitarNER'), 815.3257486620932),\n",
              " (('like', 'real', 'pianoNER'), 813.0953978374932),\n",
              " (('quality', 'cableNER', 'good'), 808.6700268928546),\n",
              " (('strings', 'great', 'guitarNER'), 782.6168897196087),\n",
              " (('great', 'caseNER', 'fits'), 779.1769018170392),\n",
              " (('guitarNER', 'sounds', 'much'), 761.1146160211582),\n",
              " (('7', 'string', 'guitarNER'), 750.4252538038339),\n",
              " (('great', 'beginner', 'guitarNER'), 744.3843487940359),\n",
              " (('wound', 'electricguitarNERNER', 'strings'), 742.2353483647623),\n",
              " (('strings', 'came', 'guitarNER'), 717.1057763628114),\n",
              " (('anyone', 'plays', 'guitarNER'), 700.6043457273695),\n",
              " (('taylor', 'guitarNERs', 'come'), 694.3435291015358),\n",
              " (('4', 'size', 'guitarNER'), 673.5108606010335),\n",
              " (('much', 'expensive', 'guitarNER'), 661.9227181358563),\n",
              " (('double', 'bass', 'pedalNER'), 654.8457908906964),\n",
              " (('dual', 'design', 'strapNERlok'), 639.4612601833588),\n",
              " (('fits', 'guitarNER', 'perfectly'), 624.9680265466739),\n",
              " (('stand', 'holds', 'guitarNER'), 597.2256565394844),\n",
              " (('makes', 'guitarNER', 'sound'), 588.5848251044006),\n",
              " (('great', 'caseNER', 'money'), 505.7368940944209),\n",
              " (('strings', 'make', 'guitarNER'), 504.9727804013968),\n",
              " (('husband', 'plays', 'guitarNER'), 480.2535039149374),\n",
              " (('guitarNER', 'sound', 'much'), 452.8190634240381),\n",
              " (('years', 'guitarNER', 'playing'), 439.66936600373606),\n",
              " (('great', 'guitarNER', 'money'), 417.4473218225421),\n",
              " (('paul', 'style', 'guitarNER'), 394.5105760788461),\n",
              " (('fender', 'mini', 'guitarNER'), 387.99217402208905),\n",
              " (('know', 'much', 'guitarNERs'), 382.75377550455903),\n",
              " (('fit', 'guitarNER', 'well'), 379.6073189150556),\n",
              " (('made', 'guitarNER', 'sound'), 327.26499858645104),\n",
              " (('guitarNER', 'looks', 'sounds'), 282.606928968405),\n",
              " (('great', 'guitarNER', 'beginner'), 270.84656236661294),\n",
              " (('put', 'strings', 'guitarNER'), 253.4742703813835),\n",
              " (('throw', 'guitarNER', 'tune'), 243.1015795561495),\n",
              " (('cheap', 'guitarNER', 'sound'), 229.63582078206628),\n",
              " (('strings', 'guitarNER', 'came'), 181.1177988061913),\n",
              " (('guitarNER', 'great', 'guitarNER'), 120.91345568982132),\n",
              " (('guitarNER', 'great', 'guitarNER'), 120.91345568982132)]"
            ]
          },
          "metadata": {},
          "execution_count": 212
        }
      ]
    },
    {
      "cell_type": "code",
      "metadata": {
        "colab": {
          "base_uri": "https://localhost:8080/"
        },
        "id": "mGYhXSoNuvFb",
        "outputId": "6b6fb275-d0d4-4965-8394-12b968721ff3"
      },
      "source": [
        "pmi = finder.score_ngrams(trigram_measures.pmi)\n",
        "NER_pmi=[]\n",
        "for a in pmi:\n",
        "  for x in a[0]:\n",
        "    if 'NER' in x:\n",
        "      NER_pmi.append(a)\n",
        "NER_pmi"
      ],
      "execution_count": 213,
      "outputs": [
        {
          "output_type": "execute_result",
          "data": {
            "text/plain": [
              "[(('dual', 'design', 'strapNERlok'), 21.522729215933705),\n",
              " (('planet', 'waves', 'tunerNERs'), 19.710186818841436),\n",
              " (('blue', 'snowball', 'microphoneNER'), 19.28031540965493),\n",
              " (('nickel', 'wound', 'electricguitarNERNER'), 18.577825479503726),\n",
              " (('planet', 'waves', 'cableNERs'), 18.399399281559266),\n",
              " (('88', 'key', 'keyboardNER'), 18.245749263474107),\n",
              " (('88', 'note', 'keyboardNER'), 17.626909476470434),\n",
              " (('electronic', 'drumNER', 'kit'), 16.531052725045615),\n",
              " (('ernie', 'ball', 'strapNERs'), 16.24525764249968),\n",
              " (('strapNER', 'lock', 'systemNER'), 15.613596855683873),\n",
              " (('strapNER', 'lock', 'systemNER'), 15.613596855683873),\n",
              " (('les', 'paul', 'electricguitarNERNER'), 15.47778307752127),\n",
              " (('wireless', 'microphoneNER', 'systemNER'), 15.298147050186184),\n",
              " (('wireless', 'microphoneNER', 'systemNER'), 15.298147050186184),\n",
              " (('avid', 'guitarNER', 'player'), 15.25894235196505),\n",
              " (('dunlop', 'strapNER', 'locks'), 15.192343154833932),\n",
              " (('entry', 'level', 'guitarNER'), 15.096699936249365),\n",
              " (('hard', 'shell', 'caseNER'), 14.979872171058886),\n",
              " (('microphoneNER', 'pop', 'filter'), 14.45347806561244),\n",
              " (('ernie', 'ball', 'strapNER'), 14.351655566008759),\n",
              " (('local', 'guitarNER', 'shop'), 14.27775730558865),\n",
              " (('local', 'guitarNER', 'center'), 14.23400710279563),\n",
              " (('taking', 'guitarNER', 'lessons'), 14.103526977311002),\n",
              " (('electronic', 'drumNER', 'set'), 13.883925663694786),\n",
              " (('les', 'paul', 'guitarNERs'), 13.881901950584904),\n",
              " (('1', '4', 'adapterNER'), 13.7618796834698),\n",
              " (('learn', 'play', 'ukuleleNER'), 13.176853031152682),\n",
              " (('double', 'bass', 'pedalNER'), 13.001475518041765),\n",
              " (('strapNER', 'locks', 'strapNER'), 12.934267288489558),\n",
              " (('strapNER', 'locks', 'strapNER'), 12.934267288489558),\n",
              " (('local', 'guitarNER', 'store'), 12.866254825613396),\n",
              " (('best', 'strapNER', 'locks'), 12.810302706841185),\n",
              " (('taylor', 'guitarNERs', 'come'), 12.803767991316),\n",
              " (('heavy', 'duty', 'caseNER'), 12.74462073915928),\n",
              " (('5', 'sustain', 'pedalNER'), 12.624572765384578),\n",
              " (('experienced', 'guitarNER', 'player'), 12.605045219760989),\n",
              " (('full', 'sized', 'guitarNER'), 12.55375203874027),\n",
              " (('went', 'guitarNER', 'center'), 12.522468809318248),\n",
              " (('caseNER', 'gig', 'bagNER'), 12.437856213757833),\n",
              " (('caseNER', 'gig', 'bagNER'), 12.437856213757833),\n",
              " (('les', 'paul', 'caseNER'), 12.427756173883324),\n",
              " (('wound', 'electricguitarNERNER', 'strings'), 12.351088075721876),\n",
              " (('celluloid', 'guitarNER', 'picks'), 12.299950131353022),\n",
              " (('guitarNERs', 'acoustic', 'electric'), 12.145827911526588),\n",
              " (('guitarNER', 'stays', 'tune'), 12.012392935381726),\n",
              " (('gig', 'bagNER', 'caseNER'), 11.990397236786613),\n",
              " (('gig', 'bagNER', 'caseNER'), 11.990397236786613),\n",
              " (('steel', 'string', 'guitarNERs'), 11.93874875443931),\n",
              " (('best', 'drumNER', 'heads'), 11.89762444210308),\n",
              " (('caseNER', 'fits', 'epiphone'), 11.88139081832584),\n",
              " (('les', 'paul', 'guitarNER'), 11.873331799204479),\n",
              " (('like', 'real', 'pianoNER'), 11.862812611761207),\n",
              " (('12', 'string', 'guitarNERs'), 11.653996453741762),\n",
              " (('mixerNER', 'mic', 'stand'), 11.615945105796328),\n",
              " (('12', 'string', 'acousticguitarNERNER'), 11.540996911841212),\n",
              " (('guitarNER', 'teacher', 'recommended'), 11.527963052864571),\n",
              " (('husband', 'plays', 'guitarNER'), 11.498452180325572),\n",
              " (('beginner', 'guitarNER', 'player'), 11.433077773789819),\n",
              " (('bronze', 'acousticguitarNERNER', 'strings'), 11.358687136290321),\n",
              " (('throw', 'guitarNER', 'tune'), 11.35478004145213),\n",
              " (('midi', 'cableNER', 'works'), 11.136228779070102),\n",
              " (('great', 'acoustic', 'electricguitarNERNERs'), 11.055250115668471),\n",
              " (('anyone', 'plays', 'guitarNER'), 11.034356393570953),\n",
              " (('learning', 'play', 'guitarNER'), 10.948598882504172),\n",
              " (('ernie', 'ball', 'guitarNER'), 10.861686262185742),\n",
              " (('full', 'size', 'guitarNER'), 10.822390705387328),\n",
              " (('use', 'strapNER', 'locks'), 10.813330954018667),\n",
              " (('1', '4', 'cableNER'), 10.770742252179588),\n",
              " (('learn', 'play', 'guitarNER'), 10.744545984295058),\n",
              " (('fender', 'mini', 'guitarNER'), 10.7315132210989),\n",
              " (('paul', 'style', 'guitarNER'), 10.578080246430439),\n",
              " (('12', 'string', 'guitarNER'), 10.55969642833545),\n",
              " (('high', 'end', 'guitarNERs'), 10.539555598337017),\n",
              " (('cableNER', '1', '4'), 10.408172172794885),\n",
              " (('two', 'different', 'guitarNERs'), 10.331787038273838),\n",
              " (('professional', 'guitarNER', 'player'), 10.316614036861708),\n",
              " (('started', 'playing', 'guitarNER'), 10.216164426791245),\n",
              " (('guitarNER', 'fits', 'perfectly'), 10.206518084076798),\n",
              " (('recommend', 'caseNER', 'anyone'), 10.02703836378268),\n",
              " (('guitarNER', 'ever', 'owned'), 9.974452506912975),\n",
              " (('guitarNER', '15', 'years'), 9.961053889239508),\n",
              " (('highly', 'recommend', 'caseNER'), 9.956880308548108),\n",
              " (('guitarNER', '40', 'years'), 9.951104228831909),\n",
              " (('nylon', 'string', 'guitarNER'), 9.78894035491556),\n",
              " (('playing', 'guitarNER', '15'), 9.787255846191798),\n",
              " (('great', 'gig', 'bagNER'), 9.71076247168363),\n",
              " (('high', 'quality', 'cableNER'), 9.677131423554016),\n",
              " (('guitarNER', '30', 'years'), 9.647266182941081),\n",
              " (('fits', 'guitarNER', 'perfectly'), 9.621555583355637),\n",
              " (('guitarNER', 'stay', 'tune'), 9.617091654164142),\n",
              " (('every', 'guitarNER', 'player'), 9.458966960273045),\n",
              " (('steel', 'string', 'guitarNER'), 9.45867415212102),\n",
              " (('elixir', 'acousticguitarNERNER', 'strings'), 9.433348141202202),\n",
              " (('guitarNER', '20', 'years'), 9.380518194817327),\n",
              " (('guitarNER', 'center', 'buy'), 9.377319218605827),\n",
              " (('get', 'pay', 'caseNER'), 9.353340106143854),\n",
              " (('playing', 'guitarNER', '30'), 9.304255756416104),\n",
              " (('stand', 'holds', 'guitarNER'), 9.271802643691132),\n",
              " (('recommend', 'guitarNER', 'players'), 9.238174605902728),\n",
              " (('guitarNER', 'highly', 'recommended'), 9.205847607150261),\n",
              " (('best', 'cableNER', 'ever'), 9.186194628460441),\n",
              " (('guitarNER', '50', 'years'), 9.13962378197018),\n",
              " (('caseNER', 'well', 'built'), 9.091378712338674),\n",
              " (('caseNER', 'perfect', 'fit'), 9.039281222502694),\n",
              " (('highly', 'recommend', 'guitarNER'), 8.971221207062626),\n",
              " (('4', 'size', 'guitarNER'), 8.951855524996624),\n",
              " (('best', 'acousticguitarNERNER', 'strings'), 8.941850294730493),\n",
              " (('bought', 'guitarNER', 'center'), 8.875569583031833),\n",
              " (('know', 'much', 'guitarNERs'), 8.840682051377911),\n",
              " (('cableNER', 'works', 'fine'), 8.7866210064794),\n",
              " (('new', 'guitarNER', 'player'), 8.768977614085138),\n",
              " (('brand', 'new', 'guitarNER'), 8.752172471659556),\n",
              " (('recommend', 'guitarNER', 'anyone'), 8.722133588463159),\n",
              " (('favorite', 'guitarNER', 'picks'), 8.717625981761984),\n",
              " (('low', 'end', 'guitarNER'), 8.661698526837974),\n",
              " (('guitarNER', 'every', 'day'), 8.657298427856354),\n",
              " (('high', 'end', 'guitarNER'), 8.644443496739882),\n",
              " (('6', 'string', 'guitarNER'), 8.632338530889058),\n",
              " (('7', 'string', 'guitarNER'), 8.488709463716006),\n",
              " (('playing', 'guitarNER', '20'), 8.478607564157386),\n",
              " (('never', 'played', 'guitarNER'), 8.463662439284192),\n",
              " (('recommend', 'guitarNER', 'player'), 8.427013098415394),\n",
              " (('changing', 'guitarNER', 'strings'), 8.426739379468891),\n",
              " (('guitarNER', 'bass', 'player'), 8.412258016978228),\n",
              " (('start', 'playing', 'guitarNER'), 8.338044069872389),\n",
              " (('cableNERs', 'work', 'well'), 8.288871609556509),\n",
              " (('great', 'drumNER', 'head'), 8.240548382119734),\n",
              " (('guitarNER', 'highly', 'recommend'), 8.186949898118058),\n",
              " (('caseNER', 'well', 'made'), 8.04884668162844),\n",
              " (('great', 'starter', 'guitarNER'), 7.961797587251979),\n",
              " (('guitarNER', '10', 'years'), 7.948008979755997),\n",
              " (('well', 'made', 'caseNER'), 7.945753188664341),\n",
              " (('strapNER', 'well', 'made'), 7.906444931703135),\n",
              " (('guitarNER', 'sounds', 'amazing'), 7.883796734715283),\n",
              " (('well', 'made', 'cableNER'), 7.799523981268258),\n",
              " (('microphoneNER', 'works', 'well'), 7.777980902849727),\n",
              " (('one', 'guitarNER', 'center'), 7.765204838755892),\n",
              " (('favorite', 'guitarNER', 'strings'), 7.697236273138756),\n",
              " (('cableNER', 'well', 'made'), 7.62959897982595),\n",
              " (('fender', 'guitarNER', 'picks'), 7.609380657235988),\n",
              " (('one', 'best', 'drumNER'), 7.596412990787478),\n",
              " (('caseNER', 'well', 'worth'), 7.591374397240415),\n",
              " (('playing', 'guitarNER', 'almost'), 7.589094532568247),\n",
              " (('3', '4', 'guitarNER'), 7.582485094865042),\n",
              " (('adapterNER', 'works', 'great'), 7.582352718074262),\n",
              " (('guitarNER', 'much', 'easier'), 7.572426275046219),\n",
              " (('much', 'expensive', 'guitarNER'), 7.51102573038208),\n",
              " (('guitarNER', 'looks', 'sounds'), 7.498974358276982),\n",
              " (('guitarNER', 'strings', 'nanoweb'), 7.4857702282539975),\n",
              " (('high', 'quality', 'caseNER'), 7.431043208171346),\n",
              " (('years', 'playing', 'guitarNER'), 7.410885555073236),\n",
              " (('strapNER', 'looks', 'great'), 7.397599113434779),\n",
              " (('would', 'recommend', 'strapNER'), 7.394511743541216),\n",
              " (('guitarNER', 'many', 'years'), 7.37344181010441),\n",
              " (('bronze', 'guitarNER', 'strings'), 7.325613003060504),\n",
              " (('caseNER', 'great', 'value'), 7.258463828600853),\n",
              " (('guitarNER', 'strings', 'market'), 7.239708901023917),\n",
              " (('wanted', 'play', 'guitarNER'), 7.2323580890120525),\n",
              " (('holds', 'guitarNER', 'well'), 7.204411083774417),\n",
              " (('playing', 'guitarNER', '10'), 7.193100761482732),\n",
              " (('changing', 'strings', 'guitarNER'), 7.172982787223106),\n",
              " (('would', 'recommend', 'caseNER'), 7.144906962843017),\n",
              " (('guitarNER', 'sounded', 'like'), 7.14069961109918),\n",
              " (('good', 'quality', 'cableNER'), 7.120001179960205),\n",
              " (('cableNER', 'works', 'well'), 7.012733543941032),\n",
              " (('great', 'caseNER', 'fits'), 7.011090219062524),\n",
              " (('great', 'beginner', 'guitarNER'), 6.99274101322429),\n",
              " (('make', 'guitarNER', 'sound'), 6.968455373465559),\n",
              " (('playing', 'guitarNER', 'since'), 6.966386117659717),\n",
              " (('best', 'guitarNER', 'picks'), 6.83397566684895),\n",
              " (('got', 'new', 'guitarNER'), 6.833442567078869),\n",
              " (('elixir', 'guitarNER', 'strings'), 6.8291173067762685),\n",
              " (('cableNER', 'works', 'great'), 6.813607708120507),\n",
              " (('would', 'recommend', 'guitarNER'), 6.7969334656315965),\n",
              " (('best', 'guitarNER', 'ever'), 6.79249903087279),\n",
              " (('easy', 'put', 'guitarNER'), 6.757085548501536),\n",
              " (('pedalNER', 'works', 'great'), 6.739248264478626),\n",
              " (('drumNERs', 'sound', 'great'), 6.696810885305396),\n",
              " (('strings', 'taylor', 'guitarNER'), 6.647650001140285),\n",
              " (('best', 'guitarNER', 'stand'), 6.626034908217925),\n",
              " (('playing', 'guitarNER', '5'), 6.625652653586279),\n",
              " (('guitarNER', '5', 'years'), 6.615026125496556),\n",
              " (('buy', 'new', 'guitarNER'), 6.614266410228197),\n",
              " (('want', 'play', 'guitarNER'), 6.561125929379877),\n",
              " (('microphoneNER', 'works', 'great'), 6.541494539525267),\n",
              " (('play', 'guitarNER', 'every'), 6.506351706835716),\n",
              " (('really', 'nice', 'caseNER'), 6.4290636999773625),\n",
              " (('makes', 'guitarNER', 'sound'), 6.415602044982386),\n",
              " (('guitarNER', 'sounds', 'better'), 6.400160393115748),\n",
              " (('guitarNER', 'would', 'recommend'), 6.396395536047869),\n",
              " (('best', 'guitarNER', 'strings'), 6.3900868801986945),\n",
              " (('great', 'caseNER', 'money'), 6.320076921305649),\n",
              " (('cableNERs', 'great', 'price'), 6.291730134034616),\n",
              " (('guitarNERs', 'sound', 'better'), 6.252802694133102),\n",
              " (('playing', 'guitarNER', 'years'), 6.240960553630927),\n",
              " (('years', 'guitarNER', 'playing'), 6.240960553630927),\n",
              " (('guitarNER', 'first', 'time'), 6.239407806367524),\n",
              " (('guitarNER', 'stand', 'works'), 6.238970529298875),\n",
              " (('good', 'quality', 'strapNER'), 6.187393766208444),\n",
              " (('great', 'guitarNER', 'beginner'), 6.185386091166684),\n",
              " (('strings', 'came', 'guitarNER'), 6.1690582705615284),\n",
              " (('playing', 'guitarNER', 'long'), 6.16281085466963),\n",
              " (('change', 'guitarNER', 'strings'), 6.107988898633117),\n",
              " (('electric', 'guitarNER', 'strings'), 6.044398581161694),\n",
              " (('new', 'playing', 'guitarNER'), 6.029303909507043),\n",
              " (('guitarNER', 'sounds', 'great'), 5.990126023164088),\n",
              " (('guitarNER', 'strings', 'ever'), 5.977881266520114),\n",
              " (('good', 'quality', 'microphoneNER'), 5.919720756126033),\n",
              " (('great', 'sounding', 'guitarNER'), 5.88274677162574),\n",
              " (('guitarNER', 'long', 'time'), 5.859432056159697),\n",
              " (('acousticguitarNERNER', 'sound', 'great'), 5.851940652274841),\n",
              " (('guitarNER', 'sounds', 'much'), 5.851089800939491),\n",
              " (('looks', 'great', 'guitarNER'), 5.740519823776509),\n",
              " (('guitarNER', 'strings', 'seem'), 5.727971130670625),\n",
              " (('strapNER', 'works', 'great'), 5.681062723859995),\n",
              " (('love', 'playing', 'guitarNER'), 5.662360113666146),\n",
              " (('brand', 'guitarNER', 'strings'), 5.640789620186226),\n",
              " (('sounding', 'guitarNER', 'strings'), 5.579892405618551),\n",
              " (('cableNER', 'great', 'price'), 5.562601206090896),\n",
              " (('first', 'time', 'guitarNER'), 5.5613359012548855),\n",
              " (('great', 'guitarNER', 'player'), 5.5421364973072755),\n",
              " (('made', 'guitarNER', 'sound'), 5.502305561725095),\n",
              " (('comes', 'guitarNER', 'strings'), 5.496439970797212),\n",
              " (('fit', 'guitarNER', 'well'), 5.487732050780679),\n",
              " (('change', 'strings', 'guitarNER'), 5.429916993520479),\n",
              " (('cableNER', 'good', 'price'), 5.404837866343549),\n",
              " (('quality', 'cableNER', 'good'), 5.369979432968549),\n",
              " (('guitarNER', 'sounds', 'good'), 5.356057246215059),\n",
              " (('cheap', 'guitarNER', 'sound'), 5.33229939828783),\n",
              " (('guitarNER', 'sounds', 'like'), 5.328860397616332),\n",
              " (('cableNER', 'good', 'quality'), 5.232475909218614),\n",
              " (('guitarNER', 'strings', 'light'), 5.227262638311501),\n",
              " (('strapNER', 'great', 'price'), 5.123953094104699),\n",
              " (('guitarNER', 'strings', 'last'), 5.066400308179119),\n",
              " (('strings', 'put', 'guitarNER'), 5.033258023556499),\n",
              " (('great', 'strapNER', 'price'), 4.986449570354765),\n",
              " (('great', 'guitarNER', 'money'), 4.976072326297185),\n",
              " (('strings', 'make', 'guitarNER'), 4.9697238469862555),\n",
              " (('guitarNER', 'much', 'better'), 4.9585408531781),\n",
              " (('well', 'made', 'guitarNER'), 4.958369406709387),\n",
              " (('guitarNER', 'looks', 'great'), 4.95202392897022),\n",
              " (('like', 'new', 'guitarNER'), 4.938361757196027),\n",
              " (('pretty', 'good', 'guitarNER'), 4.937019606073136),\n",
              " (('caseNER', 'good', 'quality'), 4.93124613964347),\n",
              " (('work', 'well', 'guitarNER'), 4.926581149329749),\n",
              " (('strings', 'guitarNER', 'came'), 4.8211349671412265),\n",
              " (('guitarNER', 'well', 'made'), 4.820865882959453),\n",
              " (('guitarNERs', 'sound', 'good'), 4.793662047953568),\n",
              " (('guitarNER', 'sound', 'like'), 4.724728184039215),\n",
              " (('excellent', 'guitarNER', 'strings'), 4.712440121137064),\n",
              " (('new', 'guitarNER', 'strings'), 4.703858392625051),\n",
              " (('guitarNERs', 'sound', 'great'), 4.701905788341598),\n",
              " (('guitarNER', 'picks', 'like'), 4.666796368704084),\n",
              " (('put', 'strings', 'guitarNER'), 4.646234900447247),\n",
              " (('caseNER', 'great', 'price'), 4.621367572236629),\n",
              " (('guitarNER', 'strings', 'always'), 4.604414724752623),\n",
              " (('guitarNER', 'strings', 'make'), 4.582700723877004),\n",
              " (('guitarNER', 'works', 'great'), 4.460554095030211),\n",
              " (('guitarNER', 'sound', 'much'), 4.416543649524172),\n",
              " (('works', 'well', 'guitarNER'), 4.412587068885962),\n",
              " (('really', 'like', 'guitarNER'), 4.407791839906444),\n",
              " (('set', 'guitarNER', 'strings'), 4.368125174151352),\n",
              " (('works', 'great', 'guitarNER'), 4.361018421479287),\n",
              " (('guitarNER', 'strings', 'feel'), 4.294376834170038),\n",
              " (('great', 'guitarNER', 'picks'), 4.294114662328504),\n",
              " (('guitarNER', 'sound', 'better'), 4.270227751285624),\n",
              " (('guitarNER', 'strings', 'best'), 4.260803863253727),\n",
              " (('guitarNER', 'good', 'quality'), 4.23931824121469),\n",
              " (('guitarNER', 'strings', 'long'), 4.159293432675),\n",
              " (('guitarNER', 'really', 'like'), 4.085863745019083),\n",
              " (('new', 'strings', 'guitarNER'), 4.025786487512413),\n",
              " (('guitarNER', 'picks', 'great'), 3.972186567441142),\n",
              " (('quality', 'guitarNER', 'strings'), 3.951622819512039),\n",
              " (('set', 'strings', 'guitarNER'), 3.8826983469811083),\n",
              " (('guitarNER', 'great', 'price'), 3.8680391291437033),\n",
              " (('good', 'quality', 'guitarNER'), 3.8673494638277433),\n",
              " (('strings', 'playing', 'guitarNER'), 3.833032160447182),\n",
              " (('great', 'guitarNER', 'strings'), 3.762419494709448),\n",
              " (('great', 'cableNER', 'great'), 3.710508225300245),\n",
              " (('great', 'playing', 'guitarNER'), 3.5249288172002693),\n",
              " (('guitarNER', 'sound', 'good'), 3.5115268232471806),\n",
              " (('love', 'guitarNER', 'strings'), 3.395808285837731),\n",
              " (('really', 'good', 'guitarNER'), 3.335453014954261),\n",
              " (('guitarNER', 'strings', 'really'), 3.310791999085396),\n",
              " (('guitarNER', 'great', 'product'), 3.2880908747007354),\n",
              " (('guitarNER', 'great', 'sound'), 3.2477098178489143),\n",
              " (('guitarNER', 'strings', 'used'), 3.2023162811812753),\n",
              " (('guitarNER', 'sound', 'great'), 3.095706724403861),\n",
              " (('guitarNER', 'strings', 'good'), 3.0558096154910572),\n",
              " (('guitarNER', 'strings', 'sound'), 2.9828233020407353),\n",
              " (('great', 'guitarNER', 'price'), 2.929439673807849),\n",
              " (('guitarNER', 'strings', 'use'), 2.8122687351272475),\n",
              " (('guitarNER', 'strings', 'would'), 2.78720080049429),\n",
              " (('guitarNER', 'great', 'guitarNER'), 2.762570065605665),\n",
              " (('guitarNER', 'great', 'guitarNER'), 2.762570065605665),\n",
              " (('guitarNER', 'strings', 'like'), 2.7200637018061755),\n",
              " (('guitarNER', 'good', 'sound'), 2.7179777007146058),\n",
              " (('good', 'guitarNER', 'strings'), 2.5322476594340486),\n",
              " (('sound', 'great', 'guitarNER'), 2.428282063490734),\n",
              " (('sound', 'good', 'guitarNER'), 2.396049605827244),\n",
              " (('great', 'guitarNER', 'great'), 2.201335410292657),\n",
              " (('guitarNER', 'strings', 'great'), 2.1494426178186927),\n",
              " (('guitarNER', 'strings', 'strings'), 1.9449919558724957),\n",
              " (('guitarNER', 'great', 'strings'), 1.8693346986259556),\n",
              " (('great', 'sound', 'guitarNER'), 1.662747317127753),\n",
              " (('strings', 'great', 'guitarNER'), 1.5214113952056465),\n",
              " (('great', 'strings', 'guitarNER'), 1.3839078714557118)]"
            ]
          },
          "metadata": {},
          "execution_count": 213
        }
      ]
    },
    {
      "cell_type": "code",
      "metadata": {
        "colab": {
          "base_uri": "https://localhost:8080/"
        },
        "id": "vSlNxUHG2aPZ",
        "outputId": "4aef1a19-b20a-4c2a-fc29-790eab604a14"
      },
      "source": [
        "chi_sq = finder.score_ngrams(trigram_measures.chi_sq)\n",
        "NER_chi_sq=[]\n",
        "for a in chi_sq:\n",
        "  for x in a[0]:\n",
        "    if 'NER' in x:\n",
        "      NER_chi_sq.append(a)\n",
        "NER_chi_sq"
      ],
      "execution_count": 216,
      "outputs": [
        {
          "output_type": "execute_result",
          "data": {
            "text/plain": [
              "[(('dual', 'design', 'strapNERlok'), 30131591.46341468),\n",
              " (('planet', 'waves', 'tunerNERs'), 10941800.992132494),\n",
              " (('planet', 'waves', 'cableNERs'), 6650065.618539111),\n",
              " (('blue', 'snowball', 'microphoneNER'), 6396871.141148245),\n",
              " (('88', 'key', 'keyboardNER'), 5958575.061106),\n",
              " (('nickel', 'wound', 'electricguitarNERNER'), 4726670.361243543),\n",
              " (('ernie', 'ball', 'strapNERs'), 2850201.226814969),\n",
              " (('88', 'note', 'keyboardNER'), 2838157.8843571395),\n",
              " (('les', 'paul', 'electricguitarNERNER'), 2466042.8939084164),\n",
              " (('les', 'paul', 'guitarNERs'), 2167078.9633975876),\n",
              " (('les', 'paul', 'caseNER'), 2027432.529852256),\n",
              " (('les', 'paul', 'guitarNER'), 2025370.9814919357),\n",
              " (('ernie', 'ball', 'strapNER'), 1993004.8108203541),\n",
              " (('ernie', 'ball', 'guitarNER'), 1504327.9277535207),\n",
              " (('electronic', 'drumNER', 'kit'), 1339345.2770533003),\n",
              " (('hard', 'shell', 'caseNER'), 1198562.8154480876),\n",
              " (('strapNER', 'lock', 'systemNER'), 1105849.7862783608),\n",
              " (('strapNER', 'lock', 'systemNER'), 1105849.7862783608),\n",
              " (('entry', 'level', 'guitarNER'), 961531.6546948493),\n",
              " (('microphoneNER', 'pop', 'filter'), 894426.9102144402),\n",
              " (('local', 'guitarNER', 'center'), 826578.5380697283),\n",
              " (('local', 'guitarNER', 'shop'), 715561.5512638852),\n",
              " (('dunlop', 'strapNER', 'locks'), 618001.1682650989),\n",
              " (('wireless', 'microphoneNER', 'systemNER'), 526557.4990042457),\n",
              " (('wireless', 'microphoneNER', 'systemNER'), 526557.4990042457),\n",
              " (('avid', 'guitarNER', 'player'), 518402.82218628743),\n",
              " (('local', 'guitarNER', 'store'), 406415.3682938507),\n",
              " (('1', '4', 'adapterNER'), 370498.6386557231),\n",
              " (('highly', 'recommend', 'caseNER'), 330502.02842821425),\n",
              " (('highly', 'recommend', 'guitarNER'), 324005.7270572389),\n",
              " (('heavy', 'duty', 'caseNER'), 321356.6951685651),\n",
              " (('guitarNER', 'highly', 'recommend'), 319248.2111234355),\n",
              " (('taking', 'guitarNER', 'lessons'), 231434.61000535358),\n",
              " (('guitarNER', 'highly', 'recommended'), 225578.2292511241),\n",
              " (('caseNER', 'gig', 'bagNER'), 197523.4296479589),\n",
              " (('caseNER', 'gig', 'bagNER'), 197523.4296479589),\n",
              " (('electronic', 'drumNER', 'set'), 187874.52148328268),\n",
              " (('best', 'strapNER', 'locks'), 184212.02176887996),\n",
              " (('gig', 'bagNER', 'caseNER'), 161834.67569185776),\n",
              " (('gig', 'bagNER', 'caseNER'), 161834.67569185776),\n",
              " (('12', 'string', 'guitarNER'), 153442.3031443846),\n",
              " (('strapNER', 'locks', 'strapNER'), 145437.68058540707),\n",
              " (('strapNER', 'locks', 'strapNER'), 145437.68058540707),\n",
              " (('learning', 'play', 'guitarNER'), 141929.09772706643),\n",
              " (('learn', 'play', 'guitarNER'), 135944.43725804234),\n",
              " (('learn', 'play', 'ukuleleNER'), 132091.84892828157),\n",
              " (('guitarNER', 'stay', 'tune'), 130528.92005899527),\n",
              " (('12', 'string', 'guitarNERs'), 129537.36324273568),\n",
              " (('great', 'gig', 'bagNER'), 127832.63703129036),\n",
              " (('guitarNER', 'stays', 'tune'), 126713.25550882828),\n",
              " (('went', 'guitarNER', 'center'), 119263.4106061638),\n",
              " (('double', 'bass', 'pedalNER'), 107922.02062675732),\n",
              " (('guitarNER', 'long', 'time'), 102421.26488549494),\n",
              " (('experienced', 'guitarNER', 'player'), 101963.27566354693),\n",
              " (('beginner', 'guitarNER', 'player'), 83956.78219427136),\n",
              " (('would', 'recommend', 'guitarNER'), 83037.19290437078),\n",
              " (('would', 'recommend', 'strapNER'), 82750.83569512735),\n",
              " (('would', 'recommend', 'caseNER'), 82703.25070146282),\n",
              " (('guitarNER', 'would', 'recommend'), 82242.99481045057),\n",
              " (('guitarNERs', 'acoustic', 'electric'), 81368.38357506595),\n",
              " (('full', 'sized', 'guitarNER'), 80106.48850370973),\n",
              " (('12', 'string', 'acousticguitarNERNER'), 78280.69591316197),\n",
              " (('use', 'strapNER', 'locks'), 77498.35887161562),\n",
              " (('5', 'sustain', 'pedalNER'), 74073.20861687767),\n",
              " (('started', 'playing', 'guitarNER'), 74006.4150013469),\n",
              " (('wound', 'electricguitarNERNER', 'strings'), 73810.55335307062),\n",
              " (('high', 'quality', 'cableNER'), 73755.63456471605),\n",
              " (('taylor', 'guitarNERs', 'come'), 73411.54403381963),\n",
              " (('best', 'drumNER', 'heads'), 72178.54122541056),\n",
              " (('1', '4', 'cableNER'), 69610.08727457582),\n",
              " (('celluloid', 'guitarNER', 'picks'), 66787.55261217465),\n",
              " (('steel', 'string', 'guitarNERs'), 63739.45581395875),\n",
              " (('like', 'real', 'pianoNER'), 57974.228677323496),\n",
              " (('cableNER', '1', '4'), 57894.96889841336),\n",
              " (('caseNER', 'well', 'made'), 54333.3754875699),\n",
              " (('well', 'made', 'caseNER'), 53420.051447207),\n",
              " (('strapNER', 'well', 'made'), 51507.6195608159),\n",
              " (('well', 'made', 'cableNER'), 51371.741528583865),\n",
              " (('high', 'end', 'guitarNERs'), 50973.61210025514),\n",
              " (('cableNER', 'well', 'made'), 50672.21537245416),\n",
              " (('cableNER', 'works', 'great'), 50631.7683832306),\n",
              " (('full', 'size', 'guitarNER'), 49680.90350947115),\n",
              " (('pedalNER', 'works', 'great'), 49104.34912630139),\n",
              " (('adapterNER', 'works', 'great'), 49050.97037589891),\n",
              " (('high', 'quality', 'caseNER'), 48873.835018704754),\n",
              " (('guitarNER', 'well', 'made'), 48568.46763731825),\n",
              " (('well', 'made', 'guitarNER'), 48566.26973247761),\n",
              " (('microphoneNER', 'works', 'great'), 48474.01338035802),\n",
              " (('strapNER', 'works', 'great'), 47626.433853863484),\n",
              " (('works', 'great', 'guitarNER'), 47363.85709592561),\n",
              " (('guitarNER', 'works', 'great'), 47349.10846437811),\n",
              " (('low', 'end', 'guitarNER'), 46489.58427119986),\n",
              " (('guitarNER', 'fits', 'perfectly'), 46304.31169321292),\n",
              " (('microphoneNER', 'works', 'well'), 45852.66813679345),\n",
              " (('guitarNER', '20', 'years'), 45673.37250525141),\n",
              " (('cableNER', 'works', 'well'), 44760.459002084506),\n",
              " (('best', 'cableNER', 'ever'), 44686.938562895),\n",
              " (('guitarNER', '15', 'years'), 42956.01269718102),\n",
              " (('guitarNER', 'much', 'better'), 42932.754383030515),\n",
              " (('works', 'well', 'guitarNER'), 42564.29332034081),\n",
              " (('high', 'end', 'guitarNER'), 41910.700580596254),\n",
              " (('mixerNER', 'mic', 'stand'), 40538.32538572909),\n",
              " (('caseNER', 'fits', 'epiphone'), 40346.98824763258),\n",
              " (('best', 'guitarNER', 'ever'), 39544.12328054076),\n",
              " (('guitarNER', 'teacher', 'recommended'), 38993.063480724704),\n",
              " (('bronze', 'acousticguitarNERNER', 'strings'), 37956.92552699592),\n",
              " (('guitarNER', '30', 'years'), 37787.80367573263),\n",
              " (('3', '4', 'guitarNER'), 36298.24390006329),\n",
              " (('brand', 'new', 'guitarNER'), 36272.48548638956),\n",
              " (('guitarNER', 'every', 'day'), 34834.95258417735),\n",
              " (('anyone', 'plays', 'guitarNER'), 34611.030005947345),\n",
              " (('cableNER', 'works', 'fine'), 34553.32962175208),\n",
              " (('midi', 'cableNER', 'works'), 33642.200373303975),\n",
              " (('great', 'acoustic', 'electricguitarNERNERs'), 31769.339378253742),\n",
              " (('guitarNER', '40', 'years'), 31381.23974043949),\n",
              " (('recommend', 'caseNER', 'anyone'), 29826.342942775285),\n",
              " (('husband', 'plays', 'guitarNER'), 29423.837200044803),\n",
              " (('guitarNER', 'center', 'buy'), 27886.850239957177),\n",
              " (('throw', 'guitarNER', 'tune'), 26216.763488365632),\n",
              " (('good', 'quality', 'cableNER'), 25971.735818972862),\n",
              " (('bought', 'guitarNER', 'center'), 24941.781983694702),\n",
              " (('guitarNER', 'much', 'easier'), 24909.301375854815),\n",
              " (('playing', 'guitarNER', '15'), 24158.30024663873),\n",
              " (('guitarNER', 'many', 'years'), 24039.535999329073),\n",
              " (('professional', 'guitarNER', 'player'), 23972.398989661928),\n",
              " (('guitarNER', 'ever', 'owned'), 23907.47660498073),\n",
              " (('caseNER', 'well', 'built'), 23650.43851719817),\n",
              " (('recommend', 'guitarNER', 'anyone'), 23066.658921467457),\n",
              " (('great', 'drumNER', 'head'), 22454.666028137988),\n",
              " (('one', 'guitarNER', 'center'), 22432.230348344256),\n",
              " (('good', 'quality', 'strapNER'), 22204.33418376513),\n",
              " (('good', 'quality', 'microphoneNER'), 21785.104311367413),\n",
              " (('cableNER', 'good', 'quality'), 21554.10822297517),\n",
              " (('caseNER', 'good', 'quality'), 21466.282206023116),\n",
              " (('guitarNER', 'good', 'quality'), 21429.03786453451),\n",
              " (('good', 'quality', 'guitarNER'), 21366.351091449014),\n",
              " (('get', 'pay', 'caseNER'), 21224.941638909837),\n",
              " (('nylon', 'string', 'guitarNER'), 21082.152454607185),\n",
              " (('every', 'guitarNER', 'player'), 20657.918066540467),\n",
              " (('guitarNER', 'great', 'product'), 20378.130724970466),\n",
              " (('guitarNER', 'first', 'time'), 18889.145744400106),\n",
              " (('first', 'time', 'guitarNER'), 18531.277667488408),\n",
              " (('guitarNER', '10', 'years'), 18251.740505752692),\n",
              " (('6', 'string', 'guitarNER'), 17930.399474108963),\n",
              " (('cableNERs', 'work', 'well'), 17879.484925467237),\n",
              " (('fender', 'mini', 'guitarNER'), 17568.89324544637),\n",
              " (('new', 'guitarNER', 'player'), 17015.02417005949),\n",
              " (('two', 'different', 'guitarNERs'), 16918.310383501135),\n",
              " (('steel', 'string', 'guitarNER'), 16775.60646138594),\n",
              " (('playing', 'guitarNER', '30'), 16203.650924019414),\n",
              " (('caseNER', 'well', 'worth'), 15765.78114961039),\n",
              " (('paul', 'style', 'guitarNER'), 15546.409986322496),\n",
              " (('cableNERs', 'great', 'price'), 15273.826418429897),\n",
              " (('cableNER', 'great', 'price'), 15070.86994482293),\n",
              " (('strapNER', 'great', 'price'), 14754.704770477034),\n",
              " (('work', 'well', 'guitarNER'), 14744.963213817955),\n",
              " (('caseNER', 'great', 'price'), 14657.9073393691),\n",
              " (('best', 'acousticguitarNERNER', 'strings'), 14593.949395844313),\n",
              " (('guitarNER', 'great', 'price'), 14585.756401422886),\n",
              " (('guitarNER', 'sounds', 'great'), 14504.834319983716),\n",
              " (('recommend', 'guitarNER', 'player'), 14093.009631395307),\n",
              " (('fits', 'guitarNER', 'perfectly'), 13456.816519670949),\n",
              " (('changing', 'guitarNER', 'strings'), 13147.687227014907),\n",
              " (('caseNER', 'perfect', 'fit'), 12302.379859001681),\n",
              " (('changing', 'strings', 'guitarNER'), 12093.411329791092),\n",
              " (('favorite', 'guitarNER', 'strings'), 11508.564877114126),\n",
              " (('years', 'playing', 'guitarNER'), 11231.806491788064),\n",
              " (('playing', 'guitarNER', '20'), 10914.889656833526),\n",
              " (('drumNERs', 'sound', 'great'), 10663.124218963736),\n",
              " (('caseNER', 'great', 'value'), 10643.43092723205),\n",
              " (('start', 'playing', 'guitarNER'), 10305.31600754152),\n",
              " (('pretty', 'good', 'guitarNER'), 10107.613631158261),\n",
              " (('guitarNER', '50', 'years'), 9868.633137214976),\n",
              " (('acousticguitarNERNER', 'sound', 'great'), 9790.832577527723),\n",
              " (('guitarNERs', 'sound', 'great'), 9430.83206936355),\n",
              " (('guitarNER', 'sound', 'great'), 9308.908858299204),\n",
              " (('sound', 'great', 'guitarNER'), 9275.600187603099),\n",
              " (('great', 'guitarNER', 'player'), 9204.237726206233),\n",
              " (('elixir', 'acousticguitarNERNER', 'strings'), 8796.286520948757),\n",
              " (('recommend', 'guitarNER', 'players'), 8754.884905082235),\n",
              " (('favorite', 'guitarNER', 'picks'), 8682.649666490159),\n",
              " (('best', 'guitarNER', 'strings'), 8539.481349359046),\n",
              " (('cableNER', 'good', 'price'), 8445.187664267),\n",
              " (('playing', 'guitarNER', 'years'), 8099.295373902848),\n",
              " (('4', 'size', 'guitarNER'), 7985.261698963879),\n",
              " (('guitarNER', 'bass', 'player'), 7767.292858649337),\n",
              " (('stand', 'holds', 'guitarNER'), 7529.135810136244),\n",
              " (('make', 'guitarNER', 'sound'), 7247.612025232381),\n",
              " (('change', 'strings', 'guitarNER'), 7065.027229610769),\n",
              " (('playing', 'guitarNER', 'almost'), 6921.042613103036),\n",
              " (('strapNER', 'looks', 'great'), 6851.029771971844),\n",
              " (('guitarNER', 'sounds', 'amazing'), 6677.417878021935),\n",
              " (('playing', 'guitarNER', 'since'), 6485.070814363905),\n",
              " (('playing', 'guitarNER', '10'), 6427.87033791396),\n",
              " (('guitarNER', 'really', 'like'), 6347.089119689378),\n",
              " (('guitarNER', 'strings', 'ever'), 6345.371043846167),\n",
              " (('really', 'like', 'guitarNER'), 6311.983826514627),\n",
              " (('guitarNER', 'strings', 'last'), 6174.2460221415195),\n",
              " (('elixir', 'guitarNER', 'strings'), 6152.6385329986315),\n",
              " (('never', 'played', 'guitarNER'), 6083.200022526361),\n",
              " (('playing', 'guitarNER', '5'), 6014.95450618434),\n",
              " (('playing', 'guitarNER', 'long'), 5781.162391541723),\n",
              " (('guitarNER', 'strings', 'market'), 5686.071503048879),\n",
              " (('looks', 'great', 'guitarNER'), 5627.953451187211),\n",
              " (('new', 'playing', 'guitarNER'), 5614.597423916825),\n",
              " (('love', 'playing', 'guitarNER'), 5555.597563413766),\n",
              " (('guitarNER', 'sounds', 'good'), 5494.909435561659),\n",
              " (('strings', 'playing', 'guitarNER'), 5271.203788244413),\n",
              " (('guitarNER', 'looks', 'great'), 5219.031024689678),\n",
              " (('great', 'playing', 'guitarNER'), 5146.512139147683),\n",
              " (('bronze', 'guitarNER', 'strings'), 5053.2889751649),\n",
              " (('wanted', 'play', 'guitarNER'), 4866.982601715416),\n",
              " (('know', 'much', 'guitarNERs'), 4837.044930518906),\n",
              " (('want', 'play', 'guitarNER'), 4750.41354833789),\n",
              " (('guitarNER', 'strings', 'nanoweb'), 4466.473430649794),\n",
              " (('7', 'string', 'guitarNER'), 4433.160345240036),\n",
              " (('guitarNER', '5', 'years'), 4425.96418351821),\n",
              " (('easy', 'put', 'guitarNER'), 4411.4291193106055),\n",
              " (('great', 'starter', 'guitarNER'), 4274.385313116947),\n",
              " (('really', 'nice', 'caseNER'), 4259.390053642332),\n",
              " (('one', 'best', 'drumNER'), 4180.343451513217),\n",
              " (('new', 'guitarNER', 'strings'), 4119.425682120275),\n",
              " (('fender', 'guitarNER', 'picks'), 4029.8515284551895),\n",
              " (('guitarNER', 'sounds', 'like'), 3990.1905163430943),\n",
              " (('guitarNER', 'great', 'sound'), 3921.804906678512),\n",
              " (('really', 'good', 'guitarNER'), 3906.3869775878134),\n",
              " (('great', 'sound', 'guitarNER'), 3862.2946779544236),\n",
              " (('play', 'guitarNER', 'every'), 3777.965866537784),\n",
              " (('change', 'guitarNER', 'strings'), 3725.701447358898),\n",
              " (('guitarNER', 'strings', 'sound'), 3697.386406835762),\n",
              " (('guitarNER', 'strings', 'seem'), 3577.174627114084),\n",
              " (('guitarNERs', 'sound', 'good'), 3526.8860361531524),\n",
              " (('best', 'guitarNER', 'picks'), 3505.3723033496844),\n",
              " (('guitarNER', 'sound', 'good'), 3477.28272875007),\n",
              " (('much', 'expensive', 'guitarNER'), 3435.5867386034042),\n",
              " (('great', 'beginner', 'guitarNER'), 3379.434036311477),\n",
              " (('electric', 'guitarNER', 'strings'), 3373.870726401912),\n",
              " (('guitarNER', 'strings', 'always'), 3342.206202400905),\n",
              " (('brand', 'guitarNER', 'strings'), 3341.146848074495),\n",
              " (('sound', 'good', 'guitarNER'), 3339.1485689633114),\n",
              " (('great', 'cableNER', 'great'), 3313.4766059355225),\n",
              " (('guitarNER', 'strings', 'best'), 3246.861383717442),\n",
              " (('guitarNER', 'strings', 'feel'), 3233.679564006945),\n",
              " (('guitarNER', 'strings', 'great'), 3229.8507134880856),\n",
              " (('great', 'sounding', 'guitarNER'), 3210.1255272804606),\n",
              " (('great', 'guitarNER', 'great'), 3208.5956226590847),\n",
              " (('guitarNER', 'strings', 'used'), 3203.489242053645),\n",
              " (('sounding', 'guitarNER', 'strings'), 3199.807722572134),\n",
              " (('guitarNER', 'strings', 'light'), 3155.4291820705257),\n",
              " (('great', 'guitarNER', 'strings'), 3138.950093289268),\n",
              " (('buy', 'new', 'guitarNER'), 3133.6217550062825),\n",
              " (('guitarNER', 'strings', 'make'), 3109.406185809142),\n",
              " (('comes', 'guitarNER', 'strings'), 3100.775955394789),\n",
              " (('guitarNER', 'sounded', 'like'), 3063.6403660842093),\n",
              " (('guitarNER', 'sounds', 'better'), 3033.5196473905676),\n",
              " (('love', 'guitarNER', 'strings'), 3030.906345573885),\n",
              " (('set', 'guitarNER', 'strings'), 3020.8373013724618),\n",
              " (('excellent', 'guitarNER', 'strings'), 2946.641974467227),\n",
              " (('quality', 'guitarNER', 'strings'), 2909.5495615747323),\n",
              " (('holds', 'guitarNER', 'well'), 2883.03927596103),\n",
              " (('guitarNER', 'strings', 'good'), 2872.090709937697),\n",
              " (('guitarNER', 'strings', 'like'), 2870.7341521495073),\n",
              " (('guitarNER', 'strings', 'long'), 2862.764102230538),\n",
              " (('guitarNER', 'strings', 'really'), 2848.0158634360173),\n",
              " (('great', 'caseNER', 'fits'), 2847.4635431811594),\n",
              " (('guitarNER', 'strings', 'use'), 2821.7928317475785),\n",
              " (('set', 'strings', 'guitarNER'), 2797.04499214779),\n",
              " (('good', 'guitarNER', 'strings'), 2786.163840803102),\n",
              " (('guitarNER', 'strings', 'strings'), 2780.5965520287778),\n",
              " (('got', 'new', 'guitarNER'), 2766.6372731364254),\n",
              " (('guitarNER', 'strings', 'would'), 2762.8566235517887),\n",
              " (('makes', 'guitarNER', 'sound'), 2647.982126242591),\n",
              " (('great', 'strings', 'guitarNER'), 2460.052650706815),\n",
              " (('guitarNER', 'great', 'strings'), 2459.507758790377),\n",
              " (('strings', 'came', 'guitarNER'), 2404.0395822580685),\n",
              " (('best', 'guitarNER', 'stand'), 2371.059535206785),\n",
              " (('guitarNER', 'sound', 'like'), 2366.1362323285107),\n",
              " (('strings', 'taylor', 'guitarNER'), 2303.5979314429255),\n",
              " (('guitarNERs', 'sound', 'better'), 2255.5906898559906),\n",
              " (('guitarNER', 'stand', 'works'), 2087.8533900547195),\n",
              " (('like', 'new', 'guitarNER'), 1980.125224309406),\n",
              " (('guitarNER', 'looks', 'sounds'), 1949.2163543721015),\n",
              " (('guitarNER', 'sound', 'better'), 1800.1392051284504),\n",
              " (('guitarNER', 'picks', 'like'), 1650.569341574002),\n",
              " (('great', 'guitarNER', 'picks'), 1555.8227283299475),\n",
              " (('guitarNER', 'picks', 'great'), 1553.0755795940058),\n",
              " (('new', 'strings', 'guitarNER'), 1531.8219626504715),\n",
              " (('guitarNER', 'sounds', 'much'), 1418.252192752857),\n",
              " (('years', 'guitarNER', 'playing'), 1408.2257387773927),\n",
              " (('strings', 'put', 'guitarNER'), 1388.9967819756528),\n",
              " (('great', 'strapNER', 'price'), 1369.5159887434008),\n",
              " (('quality', 'cableNER', 'good'), 1309.9328594194897),\n",
              " (('guitarNER', 'good', 'sound'), 1286.4856848401548),\n",
              " (('great', 'caseNER', 'money'), 1255.4568760451057),\n",
              " (('made', 'guitarNER', 'sound'), 1210.256500159451),\n",
              " (('great', 'guitarNER', 'price'), 1130.2671068837515),\n",
              " (('great', 'guitarNER', 'beginner'), 991.2916259370589),\n",
              " (('strings', 'make', 'guitarNER'), 833.172703862725),\n",
              " (('fit', 'guitarNER', 'well'), 759.0112227881054),\n",
              " (('great', 'guitarNER', 'money'), 731.6995468248589),\n",
              " (('guitarNER', 'sound', 'much'), 672.3291848734967),\n",
              " (('strings', 'great', 'guitarNER'), 658.5605802747973),\n",
              " (('cheap', 'guitarNER', 'sound'), 599.7782224960025),\n",
              " (('put', 'strings', 'guitarNER'), 446.6738807744309),\n",
              " (('strings', 'guitarNER', 'came'), 388.7464269309497),\n",
              " (('guitarNER', 'great', 'guitarNER'), 134.91054408293522),\n",
              " (('guitarNER', 'great', 'guitarNER'), 134.91054408293522)]"
            ]
          },
          "metadata": {},
          "execution_count": 216
        }
      ]
    },
    {
      "cell_type": "markdown",
      "metadata": {
        "id": "BrnFMOCb4SvY"
      },
      "source": [
        "Ну давайте подведем итоги.\n",
        "Мы решили не включать в название сущностей название компаний и в итоге получили эти названия в коллокациях - les paul, planet wave, yamacha. И непонятно, что делать! les paul guitar и  yamacha guitar это ведь совершенно разные сущности, если мы хотим их как-то маркетингово сравнить.\n",
        "\n",
        "Больше всего мне понравилась выдача llh - там были слова типа would recommend\n",
        "\n"
      ]
    },
    {
      "cell_type": "code",
      "metadata": {
        "colab": {
          "base_uri": "https://localhost:8080/"
        },
        "id": "sNl-9paA6oa7",
        "outputId": "aa3b684e-3067-43b4-fdaf-1429ee431e67"
      },
      "source": [
        "list_5 = ['acousticguitarNER', 'cableNER', 'strapNER', 'electricguitarNER', 'drumNER']\n",
        "for a in list_5:\n",
        "  print('========\\n')\n",
        "  print('Для ', a, ':\\n')\n",
        "  t = []\n",
        "  for i in NER_llhs:\n",
        "      for x in i[0]:\n",
        "        if a in x:\n",
        "          t.append(i)\n",
        "  for ii in range(5):\n",
        "    try:\n",
        "      print(t[ii])\n",
        "    except:\n",
        "      pass"
      ],
      "execution_count": 229,
      "outputs": [
        {
          "output_type": "stream",
          "name": "stdout",
          "text": [
            "========\n",
            "\n",
            "Для  acousticguitarNER :\n",
            "\n",
            "(('acousticguitarNERNER', 'sound', 'great'), 6594.624343579573)\n",
            "(('12', 'string', 'acousticguitarNERNER'), 6220.565829089181)\n",
            "(('best', 'acousticguitarNERNER', 'strings'), 1472.9778805721776)\n",
            "(('elixir', 'acousticguitarNERNER', 'strings'), 1340.960692331892)\n",
            "(('bronze', 'acousticguitarNERNER', 'strings'), 1039.7128890815184)\n",
            "========\n",
            "\n",
            "Для  cableNER :\n",
            "\n",
            "(('cableNER', 'works', 'great'), 18613.69566818341)\n",
            "(('cableNER', 'works', 'well'), 13411.719706339889)\n",
            "(('well', 'made', 'cableNER'), 11850.13873716436)\n",
            "(('cableNER', 'well', 'made'), 11838.728081128771)\n",
            "(('good', 'quality', 'cableNER'), 10077.460334901407)\n",
            "========\n",
            "\n",
            "Для  strapNER :\n",
            "\n",
            "(('ernie', 'ball', 'strapNERs'), 23663.69107356319)\n",
            "(('ernie', 'ball', 'strapNER'), 23636.3932187787)\n",
            "(('strapNER', 'works', 'great'), 18099.626502132967)\n",
            "(('would', 'recommend', 'strapNER'), 15889.329038868338)\n",
            "(('strapNER', 'well', 'made'), 11863.818823450516)\n",
            "========\n",
            "\n",
            "Для  electricguitarNER :\n",
            "\n",
            "(('les', 'paul', 'electricguitarNERNER'), 28027.665174711583)\n",
            "(('nickel', 'wound', 'electricguitarNERNER'), 1301.7720776453334)\n",
            "(('great', 'acoustic', 'electricguitarNERNERs'), 919.8285569659745)\n",
            "(('wound', 'electricguitarNERNER', 'strings'), 742.2353483647623)\n",
            "========\n",
            "\n",
            "Для  drumNER :\n",
            "\n",
            "(('drumNERs', 'sound', 'great'), 6672.171986249657)\n",
            "(('great', 'drumNER', 'head'), 2441.3516632160217)\n",
            "(('best', 'drumNER', 'heads'), 2092.8580054698114)\n",
            "(('electronic', 'drumNER', 'kit'), 1947.6524398001673)\n",
            "(('electronic', 'drumNER', 'set'), 1832.8196157761477)\n"
          ]
        }
      ]
    }
  ]
}